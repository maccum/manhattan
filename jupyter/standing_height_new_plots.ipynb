{
 "cells": [
  {
   "cell_type": "code",
   "execution_count": 1,
   "metadata": {
    "collapsed": true
   },
   "outputs": [],
   "source": [
    "import hail as hl\n",
    "hl.init(quiet=True)\n",
    "from hail.experimental import ManhattanPreprocessor\n",
    "from hail.experimental import TileGenerator"
   ]
  },
  {
   "cell_type": "code",
   "execution_count": null,
   "metadata": {
    "collapsed": true
   },
   "outputs": [],
   "source": [
    "mt = hl.read_matrix_table('/Users/maccum/manhattan_data/raw/standing_height_mt')\n",
    "\n",
    "# add gene labels\n",
    "intervals = hl.import_locus_intervals('/Users/maccum/Downloads/genes.37.interval_list')\n",
    "mt = mt.key_rows_by('locus')\n",
    "mt = mt.annotate_rows(gene = intervals[mt.locus].target).key_rows_by('locus','alleles')\n"
   ]
  },
  {
   "cell_type": "code",
   "execution_count": null,
   "metadata": {
    "collapsed": true
   },
   "outputs": [],
   "source": [
    "mt.write('/Users/maccum/manhattan_data/with_genes/standing_height_mt')"
   ]
  },
  {
   "cell_type": "code",
   "execution_count": 3,
   "metadata": {},
   "outputs": [],
   "source": [
    "# add manhattan plotting data to mt\n",
    "mt = hl.read_matrix_table('/Users/maccum/manhattan_data/with_genes/standing_height_mt')\n",
    "mp = ManhattanPreprocessor(mt.locus, mt.phenotype, mt.pval)\n",
    "# v important to set threshold at right limit, since points meeting threshold are written to json\n",
    "manhat_mt = mp.add_manhattan_data(threshold=1e-200)\n",
    "manhat_mt.write('/Users/maccum/manhattan_data/with_plot_fields/standing_height_mt', overwrite=True)"
   ]
  },
  {
   "cell_type": "code",
   "execution_count": 4,
   "metadata": {
    "collapsed": true
   },
   "outputs": [],
   "source": [
    "# read manhattan plotting data from disk and start tile generation\n",
    "manhat_mt = hl.read_matrix_table('/Users/maccum/manhattan_data/with_plot_fields/standing_height_mt')\n",
    "tg = TileGenerator(manhat_mt,\n",
    "                  dest='/Users/maccum/manhattan_data/plots/standing_height_plots',\n",
    "                  regen=True,\n",
    "                  x_margin=100,\n",
    "                  y_margin=10)"
   ]
  },
  {
   "cell_type": "code",
   "execution_count": 5,
   "metadata": {},
   "outputs": [
    {
     "name": "stdout",
     "output_type": "stream",
     "text": [
      "Zoom level: 2 |██████████████████████████████████████████████████| 100.0% Complete\n"
     ]
    }
   ],
   "source": [
    "tg.generate_tile_layer(phenotype='standing_height', zoom=2, new_log_file=True)"
   ]
  },
  {
   "cell_type": "code",
   "execution_count": 6,
   "metadata": {},
   "outputs": [
    {
     "name": "stdout",
     "output_type": "stream",
     "text": [
      "Zoom level: 3 |██████████████████████████████████████████████████| 100.0% Complete\n"
     ]
    }
   ],
   "source": [
    "tg.generate_tile_layer(phenotype='standing_height',zoom=3)"
   ]
  },
  {
   "cell_type": "code",
   "execution_count": null,
   "metadata": {},
   "outputs": [
    {
     "name": "stdout",
     "output_type": "stream",
     "text": [
      "Zoom level: 4 |██████████████████████████████████████████████████| 100.0% Complete\n",
      "Zoom level: 5 |██████████████████████████████████████████████████| 100.0% Complete\n",
      "Zoom level: 6 |████████████████████████████████████████----------| 81.2% Complete\r"
     ]
    }
   ],
   "source": [
    "tg.generate_tile_layer(phenotype='standing_height',zoom=4)\n",
    "tg.generate_tile_layer(phenotype='standing_height',zoom=5)\n",
    "tg.generate_tile_layer(phenotype='standing_height',zoom=6)\n",
    "tg.generate_tile_layer(phenotype='standing_height',zoom=7)\n",
    "tg.generate_tile_layer(phenotype='standing_height',zoom=8)"
   ]
  },
  {
   "cell_type": "code",
   "execution_count": null,
   "metadata": {
    "collapsed": true
   },
   "outputs": [],
   "source": [
    "# print xrange and yranges\n",
    "tg.mt.gp_range.show()\n",
    "tg.mt.cols().show()"
   ]
  },
  {
   "cell_type": "code",
   "execution_count": null,
   "metadata": {
    "collapsed": true
   },
   "outputs": [],
   "source": [
    "tg.generate_tile_layer(phenotype='standing_height',zoom=9)"
   ]
  },
  {
   "cell_type": "code",
   "execution_count": null,
   "metadata": {
    "collapsed": true
   },
   "outputs": [],
   "source": [
    "tg.empty_zones"
   ]
  },
  {
   "cell_type": "code",
   "execution_count": null,
   "metadata": {
    "collapsed": true
   },
   "outputs": [],
   "source": []
  },
  {
   "cell_type": "code",
   "execution_count": null,
   "metadata": {
    "collapsed": true
   },
   "outputs": [],
   "source": []
  }
 ],
 "metadata": {
  "kernelspec": {
   "display_name": "Python 3",
   "language": "python",
   "name": "python3"
  },
  "language_info": {
   "codemirror_mode": {
    "name": "ipython",
    "version": 3
   },
   "file_extension": ".py",
   "mimetype": "text/x-python",
   "name": "python",
   "nbconvert_exporter": "python",
   "pygments_lexer": "ipython3",
   "version": "3.6.3"
  }
 },
 "nbformat": 4,
 "nbformat_minor": 2
}
