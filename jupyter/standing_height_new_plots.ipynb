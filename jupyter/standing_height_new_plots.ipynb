{
 "cells": [
  {
   "cell_type": "code",
   "execution_count": 1,
   "metadata": {
    "collapsed": true
   },
   "outputs": [],
   "source": [
    "import hail as hl\n",
    "hl.init(quiet=True)\n",
    "from hail.experimental import ManhattanPreprocessor\n",
    "from hail.experimental import TileGenerator"
   ]
  },
  {
   "cell_type": "code",
   "execution_count": 5,
   "metadata": {
    "collapsed": true
   },
   "outputs": [],
   "source": [
    "# add manhattan plotting data to mt\n",
    "mt = hl.read_matrix_table('/Users/maccum/manhattan_data/raw/standing_height_mt')\n",
    "mp = ManhattanPreprocessor(mt.locus, mt.phenotype, mt.pval)\n",
    "manhat_mt = mp.add_manhattan_data()\n",
    "manhat_mt.write('/Users/maccum/manhattan_data/with_plot_fields/standing_height_mt', overwrite=True)"
   ]
  },
  {
   "cell_type": "code",
   "execution_count": 2,
   "metadata": {
    "collapsed": true
   },
   "outputs": [],
   "source": [
    "# read manhattan plotting data from disk and start tile generation\n",
    "manhat_mt = hl.read_matrix_table('/Users/maccum/manhattan_data/with_plot_fields/standing_height_mt')\n",
    "tg = TileGenerator(manhat_mt,\n",
    "                  dest='/Users/maccum/manhattan_data/plots/standing_height_plots',\n",
    "                  regen=False,\n",
    "                  x_margin=100,\n",
    "                  y_margin=10)"
   ]
  },
  {
   "cell_type": "code",
   "execution_count": 7,
   "metadata": {},
   "outputs": [
    {
     "name": "stdout",
     "output_type": "stream",
     "text": [
      "Zoom level: 2 |██████████████████████████████████████████████████| 100.0% Complete\n"
     ]
    }
   ],
   "source": [
    "tg.generate_tile_layer(phenotype='standing_height', zoom=2, new_log_file=True)"
   ]
  },
  {
   "cell_type": "code",
   "execution_count": 8,
   "metadata": {},
   "outputs": [
    {
     "name": "stdout",
     "output_type": "stream",
     "text": [
      "Zoom level: 3 |██████████████████████████████████████████████████| 100.0% Complete\n"
     ]
    }
   ],
   "source": [
    "tg.generate_tile_layer(phenotype='standing_height',zoom=3)"
   ]
  },
  {
   "cell_type": "code",
   "execution_count": null,
   "metadata": {},
   "outputs": [
    {
     "name": "stdout",
     "output_type": "stream",
     "text": [
      "Zoom level: 4 |██████████████████████████████████████████████████| 100.0% Complete\n",
      "Zoom level: 5 |██████████████████████████████████████████████████| 100.0% Complete\n",
      "Zoom level: 6 |██████████████████████████████████████████████████| 100.0% Complete\n",
      "Zoom level: 7 |██████████████████████████████████████████████████| 100.0% Complete\n",
      "Zoom level: 8 |███████████████████████████████████---------------| 71.9% Complete\r"
     ]
    }
   ],
   "source": [
    "tg.generate_tile_layer(phenotype='standing_height',zoom=4)\n",
    "tg.generate_tile_layer(phenotype='standing_height',zoom=5)\n",
    "tg.generate_tile_layer(phenotype='standing_height',zoom=6)\n",
    "tg.generate_tile_layer(phenotype='standing_height',zoom=7)\n",
    "tg.generate_tile_layer(phenotype='standing_height',zoom=8)"
   ]
  },
  {
   "cell_type": "code",
   "execution_count": null,
   "metadata": {
    "collapsed": true
   },
   "outputs": [],
   "source": [
    "# print xrange and yranges"
   ]
  }
 ],
 "metadata": {
  "kernelspec": {
   "display_name": "Python 3",
   "language": "python",
   "name": "python3"
  },
  "language_info": {
   "codemirror_mode": {
    "name": "ipython",
    "version": 3
   },
   "file_extension": ".py",
   "mimetype": "text/x-python",
   "name": "python",
   "nbconvert_exporter": "python",
   "pygments_lexer": "ipython3",
   "version": "3.6.3"
  }
 },
 "nbformat": 4,
 "nbformat_minor": 2
}
