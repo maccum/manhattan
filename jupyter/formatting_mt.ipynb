{
 "cells": [
  {
   "cell_type": "code",
   "execution_count": 1,
   "metadata": {
    "collapsed": true
   },
   "outputs": [],
   "source": [
    "import hail as hl"
   ]
  },
  {
   "cell_type": "code",
   "execution_count": 2,
   "metadata": {},
   "outputs": [
    {
     "name": "stderr",
     "output_type": "stream",
     "text": [
      "Running on Apache Spark version 2.2.0\n",
      "SparkUI available at http://10.1.7.107:4040\n",
      "Welcome to\n",
      "     __  __     <>__\n",
      "    / /_/ /__  __/ /\n",
      "   / __  / _ `/ / /\n",
      "  /_/ /_/\\_,_/_/_/   version devel-f2b0dca9f506\n",
      "NOTE: This is a beta version. Interfaces may change\n",
      "  during the beta period. We recommend pulling\n",
      "  the latest changes weekly.\n"
     ]
    }
   ],
   "source": [
    "hl.init()"
   ]
  },
  {
   "cell_type": "code",
   "execution_count": 3,
   "metadata": {},
   "outputs": [
    {
     "name": "stderr",
     "output_type": "stream",
     "text": [
      "2018-08-09 11:53:15 Hail: INFO: Reading table with no type imputation\n",
      "  Loading column 'variant' as type 'str' (user-specified)\n",
      "  Loading column 'rsid' as type 'str' (user-specified)\n",
      "  Loading column 'nCompleteSamples' as type 'int32' (user-specified)\n",
      "  Loading column 'AC' as type 'float64' (user-specified)\n",
      "  Loading column 'ytx' as type 'float64' (user-specified)\n",
      "  Loading column 'beta' as type 'float64' (user-specified)\n",
      "  Loading column 'se' as type 'float64' (user-specified)\n",
      "  Loading column 'tstat' as type 'float64' (user-specified)\n",
      "  Loading column 'pval' as type 'float64' (user-specified)\n",
      "\n"
     ]
    }
   ],
   "source": [
    "schema = {'variant': hl.tstr, 'rsid': hl.tstr, 'nCompleteSamples': hl.tint32,\n",
    "         'AC': hl.tfloat64, 'ytx': hl.tfloat64, 'beta': hl.tfloat64,\n",
    "         'se': hl.tfloat64, 'tstat': hl.tfloat64, 'pval': hl.tfloat64}\n",
    "\n",
    "ht= hl.import_table('/Users/maccum/manhattan/50.assoc.tsv', key='variant', types=schema)"
   ]
  },
  {
   "cell_type": "code",
   "execution_count": 4,
   "metadata": {},
   "outputs": [
    {
     "name": "stdout",
     "output_type": "stream",
     "text": [
      "----------------------------------------\n",
      "Global fields:\n",
      "    None\n",
      "----------------------------------------\n",
      "Row fields:\n",
      "    'variant': str \n",
      "    'rsid': str \n",
      "    'nCompleteSamples': int32 \n",
      "    'AC': float64 \n",
      "    'ytx': float64 \n",
      "    'beta': float64 \n",
      "    'se': float64 \n",
      "    'tstat': float64 \n",
      "    'pval': float64 \n",
      "----------------------------------------\n",
      "Key: ['variant']\n",
      "----------------------------------------\n"
     ]
    }
   ],
   "source": [
    "ht.describe()"
   ]
  },
  {
   "cell_type": "code",
   "execution_count": 5,
   "metadata": {},
   "outputs": [],
   "source": [
    "ht = ht.annotate(phenotype='standing_height')\n",
    "ht = ht.transmute(**hl.parse_variant(ht.variant)).key_by('locus','alleles').drop('variant')"
   ]
  },
  {
   "cell_type": "code",
   "execution_count": 6,
   "metadata": {},
   "outputs": [
    {
     "name": "stdout",
     "output_type": "stream",
     "text": [
      "----------------------------------------\n",
      "Global fields:\n",
      "    None\n",
      "----------------------------------------\n",
      "Row fields:\n",
      "    'rsid': str \n",
      "    'nCompleteSamples': int32 \n",
      "    'AC': float64 \n",
      "    'ytx': float64 \n",
      "    'beta': float64 \n",
      "    'se': float64 \n",
      "    'tstat': float64 \n",
      "    'pval': float64 \n",
      "    'phenotype': str \n",
      "    'locus': locus<GRCh37> \n",
      "    'alleles': array<str> \n",
      "----------------------------------------\n",
      "Key: ['locus', 'alleles']\n",
      "----------------------------------------\n"
     ]
    }
   ],
   "source": [
    "ht.describe()"
   ]
  },
  {
   "cell_type": "code",
   "execution_count": 7,
   "metadata": {
    "collapsed": true
   },
   "outputs": [],
   "source": [
    "mt = ht.distinct().to_matrix_table(row_key=['locus','alleles'],\n",
    "                  col_key=['phenotype'],row_fields=['rsid'])"
   ]
  },
  {
   "cell_type": "code",
   "execution_count": 8,
   "metadata": {},
   "outputs": [
    {
     "name": "stderr",
     "output_type": "stream",
     "text": [
      "2018-08-09 11:55:54 Hail: INFO: Ordering unsorted dataset with network shuffle\n",
      "2018-08-09 12:00:38 Hail: INFO: Coerced sorted dataset\n",
      "2018-08-09 12:03:13 Hail: INFO: wrote 10894596 items in 35 partitions to /Users/maccum/manhattan_data/raw/standing_height_mt\n"
     ]
    }
   ],
   "source": [
    "mt.write('/Users/maccum/manhattan_data/raw/standing_height_mt', overwrite=True)"
   ]
  },
  {
   "cell_type": "code",
   "execution_count": 9,
   "metadata": {},
   "outputs": [
    {
     "name": "stdout",
     "output_type": "stream",
     "text": [
      "----------------------------------------\n",
      "Global fields:\n",
      "    None\n",
      "----------------------------------------\n",
      "Column fields:\n",
      "    'phenotype': str \n",
      "----------------------------------------\n",
      "Row fields:\n",
      "    'locus': locus<GRCh37> \n",
      "    'alleles': array<str> \n",
      "    'rsid': str \n",
      "----------------------------------------\n",
      "Entry fields:\n",
      "    'nCompleteSamples': int32 \n",
      "    'AC': float64 \n",
      "    'ytx': float64 \n",
      "    'beta': float64 \n",
      "    'se': float64 \n",
      "    'tstat': float64 \n",
      "    'pval': float64 \n",
      "----------------------------------------\n",
      "Column key: ['phenotype']\n",
      "Row key: ['locus', 'alleles']\n",
      "Partition key: ['locus', 'alleles']\n",
      "----------------------------------------\n"
     ]
    }
   ],
   "source": [
    "mt.describe()"
   ]
  },
  {
   "cell_type": "code",
   "execution_count": null,
   "metadata": {
    "collapsed": true
   },
   "outputs": [],
   "source": []
  }
 ],
 "metadata": {
  "kernelspec": {
   "display_name": "Python 3",
   "language": "python",
   "name": "python3"
  },
  "language_info": {
   "codemirror_mode": {
    "name": "ipython",
    "version": 3
   },
   "file_extension": ".py",
   "mimetype": "text/x-python",
   "name": "python",
   "nbconvert_exporter": "python",
   "pygments_lexer": "ipython3",
   "version": "3.6.3"
  }
 },
 "nbformat": 4,
 "nbformat_minor": 2
}
