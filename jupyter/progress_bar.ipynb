{
 "cells": [
  {
   "cell_type": "code",
   "execution_count": 9,
   "metadata": {},
   "outputs": [
    {
     "name": "stdout",
     "output_type": "stream",
     "text": [
      "Progress |██████████████████████████████████████████████████| 100.0% Complete\n"
     ]
    }
   ],
   "source": [
    "# https://stackoverflow.com/questions/3173320/text-progress-bar-in-the-console\n",
    "\n",
    "# Print iterations progress\n",
    "def progress(i, total, prefix = 'Progress', suffix = 'Complete', decimals = 1, length = 50, fill = '█'):\n",
    "    percent = (\"{0:.\" + str(decimals) + \"f}\").format(100 * (i / float(total)))\n",
    "    filledLength = int(length * i // total)\n",
    "    bar = fill * filledLength + '-' * (length - filledLength)\n",
    "    print('\\r%s |%s| %s%% %s' % (prefix, bar, percent, suffix), end = '\\r')\n",
    "    # Print New Line on Complete\n",
    "    if i == total: \n",
    "        print()\n",
    "\n",
    "# \n",
    "# Sample Usage\n",
    "# \n",
    "\n",
    "from time import sleep\n",
    "\n",
    "# A List of Items\n",
    "items = list(range(0, 57))\n",
    "length = len(items)\n",
    "\n",
    "# Initial call to print 0% progress\n",
    "progress(0, length)\n",
    "for i, item in enumerate(items):\n",
    "    # Do stuff...\n",
    "    sleep(0.1)\n",
    "    # Update Progress Bar\n",
    "    progress(i + 1, length)\n"
   ]
  },
  {
   "cell_type": "code",
   "execution_count": 2,
   "metadata": {
    "collapsed": true
   },
   "outputs": [],
   "source": [
    "import plotgen"
   ]
  },
  {
   "cell_type": "code",
   "execution_count": 1,
   "metadata": {},
   "outputs": [
    {
     "data": {
      "text/plain": [
       "['',\n",
       " '/Users/maccum/manhattan/jupyter_folder',\n",
       " '/Users/maccum/hail/python',\n",
       " '/Users/maccum/Documents/spark-2.2.0-bin-hadoop2.7/python',\n",
       " '/Users/maccum/Documents/spark-2.2.0-bin-hadoop2.7/python/lib/py4j-0.10.4-src.zip',\n",
       " '/Users/maccum/manhattan/plotgen/plotgen',\n",
       " '/Users/maccum/manhattan',\n",
       " '/Users/maccum/anaconda3/lib/python36.zip',\n",
       " '/Users/maccum/anaconda3/lib/python3.6',\n",
       " '/Users/maccum/anaconda3/lib/python3.6/lib-dynload',\n",
       " '/Users/maccum/.local/lib/python3.6/site-packages',\n",
       " '/Users/maccum/anaconda3/lib/python3.6/site-packages',\n",
       " '/Users/maccum/anaconda3/lib/python3.6/site-packages/aeosa',\n",
       " '/Users/maccum/anaconda3/lib/python3.6/site-packages/IPython/extensions',\n",
       " '/Users/maccum/.ipython']"
      ]
     },
     "execution_count": 1,
     "metadata": {},
     "output_type": "execute_result"
    }
   ],
   "source": [
    "import sys\n",
    "sys.path"
   ]
  },
  {
   "cell_type": "code",
   "execution_count": 1,
   "metadata": {},
   "outputs": [
    {
     "name": "stdout",
     "output_type": "stream",
     "text": [
      "Help on package plotgen:\n",
      "\n",
      "NAME\n",
      "    plotgen\n",
      "\n",
      "PACKAGE CONTENTS\n",
      "    src (package)\n",
      "    test (package)\n",
      "\n",
      "FILE\n",
      "    /Users/maccum/manhattan/plotgen/plotgen/__init__.py\n",
      "\n",
      "\n"
     ]
    }
   ],
   "source": [
    "import plotgen\n",
    "help(plotgen)"
   ]
  },
  {
   "cell_type": "code",
   "execution_count": 2,
   "metadata": {},
   "outputs": [],
   "source": [
    "from plotgen.src.utils.zone import Zone, Zones\n",
    "z = Zone([0,1], [2,3])"
   ]
  },
  {
   "cell_type": "code",
   "execution_count": null,
   "metadata": {
    "collapsed": true
   },
   "outputs": [],
   "source": []
  }
 ],
 "metadata": {
  "kernelspec": {
   "display_name": "Python 3",
   "language": "python",
   "name": "python3"
  },
  "language_info": {
   "codemirror_mode": {
    "name": "ipython",
    "version": 3
   },
   "file_extension": ".py",
   "mimetype": "text/x-python",
   "name": "python",
   "nbconvert_exporter": "python",
   "pygments_lexer": "ipython3",
   "version": "3.6.3"
  }
 },
 "nbformat": 4,
 "nbformat_minor": 2
}
