{
 "cells": [
  {
   "cell_type": "code",
   "execution_count": 1,
   "metadata": {
    "collapsed": true
   },
   "outputs": [],
   "source": [
    "import hail as hl\n",
    "from hail.experimental import ManhattanPreprocessor\n",
    "from hail.experimental import TileGenerator"
   ]
  },
  {
   "cell_type": "code",
   "execution_count": 2,
   "metadata": {},
   "outputs": [
    {
     "name": "stderr",
     "output_type": "stream",
     "text": [
      "Running on Apache Spark version 2.2.0\n",
      "SparkUI available at http://10.1.7.107:4040\n",
      "Welcome to\n",
      "     __  __     <>__\n",
      "    / /_/ /__  __/ /\n",
      "   / __  / _ `/ / /\n",
      "  /_/ /_/\\_,_/_/_/   version devel-99a9111eb97f\n",
      "NOTE: This is a beta version. Interfaces may change\n",
      "  during the beta period. We recommend pulling\n",
      "  the latest changes weekly.\n"
     ]
    }
   ],
   "source": [
    "hl.init()"
   ]
  },
  {
   "cell_type": "code",
   "execution_count": 5,
   "metadata": {
    "collapsed": true
   },
   "outputs": [],
   "source": [
    "colors = {}\n",
    "for i in range(1,23):\n",
    "    if i%2==0:\n",
    "        colors[str(i)] = '#0e6d19'\n",
    "    else:\n",
    "        colors[str(i)] = \"#000000\"\n",
    "colors['X'] = \"#000000\""
   ]
  },
  {
   "cell_type": "code",
   "execution_count": 9,
   "metadata": {},
   "outputs": [
    {
     "name": "stderr",
     "output_type": "stream",
     "text": [
      "2018-08-24 17:55:32 Hail: INFO: wrote 10879 items in 16 partitions to /Users/maccum/manhattan_data/with_plot_fields/caffeine_mt2\n"
     ]
    },
    {
     "name": "stdout",
     "output_type": "stream",
     "text": [
      "Zoom level: 2 |██████████████████████████████████████████████████| 100.0% Complete\n"
     ]
    }
   ],
   "source": [
    "# add manhattan plotting data to mt\n",
    "mt = hl.read_matrix_table('/Users/maccum/manhattan_data/raw/caffeine_mt')\n",
    "mp = ManhattanPreprocessor(mt.locus, mt.phenotype, mt.p_value)\n",
    "manhat_mt = mp.add_manhattan_data(colors)\n",
    "manhat_mt.write('/Users/maccum/manhattan_data/with_plot_fields/caffeine_mt2', overwrite=True)\n",
    "\n",
    "# read manhattan plotting data from disk and start tile generation\n",
    "manhat_mt = hl.read_matrix_table('/Users/maccum/manhattan_data/with_plot_fields/caffeine_mt2')\n",
    "tg = TileGenerator(manhat_mt,\n",
    "                  dest='/Users/maccum/manhattan_data/plots/caffeine_plots_2',\n",
    "                  regen=True)\n",
    "\n",
    "tg.generate_tile_layer(phenotype='caffeine_consumption', zoom=2, new_log_file=True)\n"
   ]
  },
  {
   "cell_type": "code",
   "execution_count": 10,
   "metadata": {},
   "outputs": [
    {
     "name": "stdout",
     "output_type": "stream",
     "text": [
      "Zoom level: 3 |██████████████████████████████████████████████████| 100.0% Complete\n"
     ]
    }
   ],
   "source": [
    "tg.generate_tile_layer(phenotype='caffeine_consumption',zoom=3)"
   ]
  },
  {
   "cell_type": "code",
   "execution_count": 11,
   "metadata": {},
   "outputs": [
    {
     "name": "stdout",
     "output_type": "stream",
     "text": [
      "Zoom level: 3 |██████████████████████████████████████████████████| 100.0% Complete\n",
      "Zoom level: 4 |██████████████████████████████████████████████████| 100.0% Complete\n",
      "Zoom level: 5 |██████████████████████████████████████████████████| 100.0% Complete\n",
      "Zoom level: 6 |██████████████████████████████████████████████████| 100.0% Complete\n",
      "Zoom level: 7 |██████████████████████████████████████████████████| 100.0% Complete\n",
      "Zoom level: 8 |██------------------------------------------------| 4.3% Complete\r"
     ]
    },
    {
     "ename": "FatalError",
     "evalue": "NullPointerException: null\n\nJava stack trace:\njava.lang.NullPointerException: null\n\tat is.hail.annotations.aggregators.RegionValueDownsampleAggregator.result(RegionValueDownsampleAggregator.scala:26)\n\tat is.hail.expr.ir.Interpret$$anonfun$apply$27$$anonfun$apply$28.apply(Interpret.scala:653)\n\tat is.hail.expr.ir.Interpret$$anonfun$apply$27$$anonfun$apply$28.apply(Interpret.scala:653)\n\tat scala.collection.IndexedSeqOptimized$class.foreach(IndexedSeqOptimized.scala:33)\n\tat scala.collection.mutable.ArrayOps$ofRef.foreach(ArrayOps.scala:186)\n\tat is.hail.expr.ir.Interpret$$anonfun$apply$27.apply(Interpret.scala:653)\n\tat is.hail.expr.ir.Interpret$$anonfun$apply$27.apply(Interpret.scala:647)\n\tat is.hail.utils.package$.using(package.scala:587)\n\tat is.hail.annotations.Region$.scoped(Region.scala:19)\n\tat is.hail.expr.ir.Interpret$.apply(Interpret.scala:647)\n\tat is.hail.expr.ir.Interpret$.apply(Interpret.scala:49)\n\tat is.hail.table.Table.aggregate(Table.scala:413)\n\tat is.hail.table.Table.aggregate(Table.scala:409)\n\tat is.hail.table.Table.aggregateJSON(Table.scala:404)\n\tat sun.reflect.GeneratedMethodAccessor107.invoke(Unknown Source)\n\tat sun.reflect.DelegatingMethodAccessorImpl.invoke(DelegatingMethodAccessorImpl.java:43)\n\tat java.lang.reflect.Method.invoke(Method.java:498)\n\tat py4j.reflection.MethodInvoker.invoke(MethodInvoker.java:244)\n\tat py4j.reflection.ReflectionEngine.invoke(ReflectionEngine.java:357)\n\tat py4j.Gateway.invoke(Gateway.java:280)\n\tat py4j.commands.AbstractCommand.invokeMethod(AbstractCommand.java:132)\n\tat py4j.commands.CallCommand.execute(CallCommand.java:79)\n\tat py4j.GatewayConnection.run(GatewayConnection.java:214)\n\tat java.lang.Thread.run(Thread.java:748)\n\nHail version: devel-99a9111eb97f\nError summary: NullPointerException: null",
     "output_type": "error",
     "traceback": [
      "\u001b[0;31m---------------------------------------------------------------------------\u001b[0m",
      "\u001b[0;31mFatalError\u001b[0m                                Traceback (most recent call last)",
      "\u001b[0;32m<ipython-input-11-4220dcc59642>\u001b[0m in \u001b[0;36m<module>\u001b[0;34m()\u001b[0m\n\u001b[1;32m      4\u001b[0m \u001b[0mtg\u001b[0m\u001b[0;34m.\u001b[0m\u001b[0mgenerate_tile_layer\u001b[0m\u001b[0;34m(\u001b[0m\u001b[0mphenotype\u001b[0m\u001b[0;34m=\u001b[0m\u001b[0;34m'caffeine_consumption'\u001b[0m\u001b[0;34m,\u001b[0m\u001b[0mzoom\u001b[0m\u001b[0;34m=\u001b[0m\u001b[0;36m6\u001b[0m\u001b[0;34m)\u001b[0m\u001b[0;34m\u001b[0m\u001b[0m\n\u001b[1;32m      5\u001b[0m \u001b[0mtg\u001b[0m\u001b[0;34m.\u001b[0m\u001b[0mgenerate_tile_layer\u001b[0m\u001b[0;34m(\u001b[0m\u001b[0mphenotype\u001b[0m\u001b[0;34m=\u001b[0m\u001b[0;34m'caffeine_consumption'\u001b[0m\u001b[0;34m,\u001b[0m\u001b[0mzoom\u001b[0m\u001b[0;34m=\u001b[0m\u001b[0;36m7\u001b[0m\u001b[0;34m)\u001b[0m\u001b[0;34m\u001b[0m\u001b[0m\n\u001b[0;32m----> 6\u001b[0;31m \u001b[0mtg\u001b[0m\u001b[0;34m.\u001b[0m\u001b[0mgenerate_tile_layer\u001b[0m\u001b[0;34m(\u001b[0m\u001b[0mphenotype\u001b[0m\u001b[0;34m=\u001b[0m\u001b[0;34m'caffeine_consumption'\u001b[0m\u001b[0;34m,\u001b[0m\u001b[0mzoom\u001b[0m\u001b[0;34m=\u001b[0m\u001b[0;36m8\u001b[0m\u001b[0;34m)\u001b[0m\u001b[0;34m\u001b[0m\u001b[0m\n\u001b[0m",
      "\u001b[0;32m~/hail/python/hail/plot/slippyplot/tile_generator.py\u001b[0m in \u001b[0;36mgenerate_tile_layer\u001b[0;34m(self, phenotype, zoom, new_log_file)\u001b[0m\n\u001b[1;32m    275\u001b[0m                 \u001b[0mzc\u001b[0m \u001b[0;34m=\u001b[0m \u001b[0;34m[\u001b[0m\u001b[0mzoom\u001b[0m\u001b[0;34m,\u001b[0m \u001b[0mc\u001b[0m\u001b[0;34m]\u001b[0m\u001b[0;34m\u001b[0m\u001b[0m\n\u001b[1;32m    276\u001b[0m                 self.generate_tile_image(zc, x_range, y_axis_range,\n\u001b[0;32m--> 277\u001b[0;31m                                          tile_path, phenotype)\n\u001b[0m\u001b[1;32m    278\u001b[0m                 self.progress(iteration, num_cols,\n\u001b[1;32m    279\u001b[0m                               prefix='Zoom level: ' + str(zoom))\n",
      "\u001b[0;32m~/hail/python/hail/plot/slippyplot/tile_generator.py\u001b[0m in \u001b[0;36mgenerate_tile_image\u001b[0;34m(self, zc, x_range, y_range, tile_path, phenotype)\u001b[0m\n\u001b[1;32m    223\u001b[0m         \u001b[0;31m# compare with downsampler\u001b[0m\u001b[0;34m\u001b[0m\u001b[0;34m\u001b[0m\u001b[0m\n\u001b[1;32m    224\u001b[0m         \u001b[0;31m#fbp_count = filtered_by_pixel.count()\u001b[0m\u001b[0;34m\u001b[0m\u001b[0;34m\u001b[0m\u001b[0m\n\u001b[0;32m--> 225\u001b[0;31m         \u001b[0mdownsampled\u001b[0m \u001b[0;34m=\u001b[0m \u001b[0mfiltered_by_coordinates\u001b[0m\u001b[0;34m.\u001b[0m\u001b[0maggregate\u001b[0m\u001b[0;34m(\u001b[0m\u001b[0mhl\u001b[0m\u001b[0;34m.\u001b[0m\u001b[0magg\u001b[0m\u001b[0;34m.\u001b[0m\u001b[0mdownsample\u001b[0m\u001b[0;34m(\u001b[0m\u001b[0mfiltered_by_coordinates\u001b[0m\u001b[0;34m.\u001b[0m\u001b[0mglobal_position\u001b[0m\u001b[0;34m,\u001b[0m \u001b[0mfiltered_by_coordinates\u001b[0m\u001b[0;34m.\u001b[0m\u001b[0mneg_log_pval\u001b[0m\u001b[0;34m,\u001b[0m \u001b[0mfiltered_by_coordinates\u001b[0m\u001b[0;34m.\u001b[0m\u001b[0mcolor\u001b[0m\u001b[0;34m,\u001b[0m  \u001b[0mn_divisions\u001b[0m\u001b[0;34m=\u001b[0m\u001b[0;36m256\u001b[0m\u001b[0;34m*\u001b[0m\u001b[0;36m256\u001b[0m\u001b[0;34m)\u001b[0m\u001b[0;34m)\u001b[0m\u001b[0;34m\u001b[0m\u001b[0m\n\u001b[0m\u001b[1;32m    226\u001b[0m         \u001b[0;31m#print('fbp count: '+str(fbp_count)+\" downsampled count: \"+str(len(downsampled)))\u001b[0m\u001b[0;34m\u001b[0m\u001b[0;34m\u001b[0m\u001b[0m\n\u001b[1;32m    227\u001b[0m \u001b[0;34m\u001b[0m\u001b[0m\n",
      "\u001b[0;32m~/hail/python/hail/table.py\u001b[0m in \u001b[0;36maggregate\u001b[0;34m(self, expr)\u001b[0m\n\u001b[1;32m   1157\u001b[0m         \u001b[0manalyze\u001b[0m\u001b[0;34m(\u001b[0m\u001b[0;34m'Table.aggregate'\u001b[0m\u001b[0;34m,\u001b[0m \u001b[0mexpr\u001b[0m\u001b[0;34m,\u001b[0m \u001b[0mself\u001b[0m\u001b[0;34m.\u001b[0m\u001b[0m_global_indices\u001b[0m\u001b[0;34m,\u001b[0m \u001b[0;34m{\u001b[0m\u001b[0mself\u001b[0m\u001b[0;34m.\u001b[0m\u001b[0m_row_axis\u001b[0m\u001b[0;34m}\u001b[0m\u001b[0;34m)\u001b[0m\u001b[0;34m\u001b[0m\u001b[0m\n\u001b[1;32m   1158\u001b[0m \u001b[0;34m\u001b[0m\u001b[0m\n\u001b[0;32m-> 1159\u001b[0;31m         \u001b[0mresult_json\u001b[0m \u001b[0;34m=\u001b[0m \u001b[0mbase\u001b[0m\u001b[0;34m.\u001b[0m\u001b[0m_jt\u001b[0m\u001b[0;34m.\u001b[0m\u001b[0maggregateJSON\u001b[0m\u001b[0;34m(\u001b[0m\u001b[0mstr\u001b[0m\u001b[0;34m(\u001b[0m\u001b[0mexpr\u001b[0m\u001b[0;34m.\u001b[0m\u001b[0m_ir\u001b[0m\u001b[0;34m)\u001b[0m\u001b[0;34m)\u001b[0m\u001b[0;34m\u001b[0m\u001b[0m\n\u001b[0m\u001b[1;32m   1160\u001b[0m         \u001b[0;32mreturn\u001b[0m \u001b[0mexpr\u001b[0m\u001b[0;34m.\u001b[0m\u001b[0mdtype\u001b[0m\u001b[0;34m.\u001b[0m\u001b[0m_from_json\u001b[0m\u001b[0;34m(\u001b[0m\u001b[0mresult_json\u001b[0m\u001b[0;34m)\u001b[0m\u001b[0;34m\u001b[0m\u001b[0m\n\u001b[1;32m   1161\u001b[0m \u001b[0;34m\u001b[0m\u001b[0m\n",
      "\u001b[0;32m~/Documents/spark-2.2.0-bin-hadoop2.7/python/lib/py4j-0.10.4-src.zip/py4j/java_gateway.py\u001b[0m in \u001b[0;36m__call__\u001b[0;34m(self, *args)\u001b[0m\n\u001b[1;32m   1131\u001b[0m         \u001b[0manswer\u001b[0m \u001b[0;34m=\u001b[0m \u001b[0mself\u001b[0m\u001b[0;34m.\u001b[0m\u001b[0mgateway_client\u001b[0m\u001b[0;34m.\u001b[0m\u001b[0msend_command\u001b[0m\u001b[0;34m(\u001b[0m\u001b[0mcommand\u001b[0m\u001b[0;34m)\u001b[0m\u001b[0;34m\u001b[0m\u001b[0m\n\u001b[1;32m   1132\u001b[0m         return_value = get_return_value(\n\u001b[0;32m-> 1133\u001b[0;31m             answer, self.gateway_client, self.target_id, self.name)\n\u001b[0m\u001b[1;32m   1134\u001b[0m \u001b[0;34m\u001b[0m\u001b[0m\n\u001b[1;32m   1135\u001b[0m         \u001b[0;32mfor\u001b[0m \u001b[0mtemp_arg\u001b[0m \u001b[0;32min\u001b[0m \u001b[0mtemp_args\u001b[0m\u001b[0;34m:\u001b[0m\u001b[0;34m\u001b[0m\u001b[0m\n",
      "\u001b[0;32m~/hail/python/hail/utils/java.py\u001b[0m in \u001b[0;36mdeco\u001b[0;34m(*args, **kwargs)\u001b[0m\n\u001b[1;32m    210\u001b[0m             raise FatalError('%s\\n\\nJava stack trace:\\n%s\\n'\n\u001b[1;32m    211\u001b[0m                              \u001b[0;34m'Hail version: %s\\n'\u001b[0m\u001b[0;34m\u001b[0m\u001b[0m\n\u001b[0;32m--> 212\u001b[0;31m                              'Error summary: %s' % (deepest, full, hail.__version__, deepest)) from None\n\u001b[0m\u001b[1;32m    213\u001b[0m         \u001b[0;32mexcept\u001b[0m \u001b[0mpyspark\u001b[0m\u001b[0;34m.\u001b[0m\u001b[0msql\u001b[0m\u001b[0;34m.\u001b[0m\u001b[0mutils\u001b[0m\u001b[0;34m.\u001b[0m\u001b[0mCapturedException\u001b[0m \u001b[0;32mas\u001b[0m \u001b[0me\u001b[0m\u001b[0;34m:\u001b[0m\u001b[0;34m\u001b[0m\u001b[0m\n\u001b[1;32m    214\u001b[0m             raise FatalError('%s\\n\\nJava stack trace:\\n%s\\n'\n",
      "\u001b[0;31mFatalError\u001b[0m: NullPointerException: null\n\nJava stack trace:\njava.lang.NullPointerException: null\n\tat is.hail.annotations.aggregators.RegionValueDownsampleAggregator.result(RegionValueDownsampleAggregator.scala:26)\n\tat is.hail.expr.ir.Interpret$$anonfun$apply$27$$anonfun$apply$28.apply(Interpret.scala:653)\n\tat is.hail.expr.ir.Interpret$$anonfun$apply$27$$anonfun$apply$28.apply(Interpret.scala:653)\n\tat scala.collection.IndexedSeqOptimized$class.foreach(IndexedSeqOptimized.scala:33)\n\tat scala.collection.mutable.ArrayOps$ofRef.foreach(ArrayOps.scala:186)\n\tat is.hail.expr.ir.Interpret$$anonfun$apply$27.apply(Interpret.scala:653)\n\tat is.hail.expr.ir.Interpret$$anonfun$apply$27.apply(Interpret.scala:647)\n\tat is.hail.utils.package$.using(package.scala:587)\n\tat is.hail.annotations.Region$.scoped(Region.scala:19)\n\tat is.hail.expr.ir.Interpret$.apply(Interpret.scala:647)\n\tat is.hail.expr.ir.Interpret$.apply(Interpret.scala:49)\n\tat is.hail.table.Table.aggregate(Table.scala:413)\n\tat is.hail.table.Table.aggregate(Table.scala:409)\n\tat is.hail.table.Table.aggregateJSON(Table.scala:404)\n\tat sun.reflect.GeneratedMethodAccessor107.invoke(Unknown Source)\n\tat sun.reflect.DelegatingMethodAccessorImpl.invoke(DelegatingMethodAccessorImpl.java:43)\n\tat java.lang.reflect.Method.invoke(Method.java:498)\n\tat py4j.reflection.MethodInvoker.invoke(MethodInvoker.java:244)\n\tat py4j.reflection.ReflectionEngine.invoke(ReflectionEngine.java:357)\n\tat py4j.Gateway.invoke(Gateway.java:280)\n\tat py4j.commands.AbstractCommand.invokeMethod(AbstractCommand.java:132)\n\tat py4j.commands.CallCommand.execute(CallCommand.java:79)\n\tat py4j.GatewayConnection.run(GatewayConnection.java:214)\n\tat java.lang.Thread.run(Thread.java:748)\n\nHail version: devel-99a9111eb97f\nError summary: NullPointerException: null"
     ]
    }
   ],
   "source": [
    "tg.generate_tile_layer(phenotype='caffeine_consumption',zoom=3)\n",
    "tg.generate_tile_layer(phenotype='caffeine_consumption',zoom=4)\n",
    "tg.generate_tile_layer(phenotype='caffeine_consumption',zoom=5)\n",
    "tg.generate_tile_layer(phenotype='caffeine_consumption',zoom=6)\n",
    "tg.generate_tile_layer(phenotype='caffeine_consumption',zoom=7)\n",
    "tg.generate_tile_layer(phenotype='caffeine_consumption',zoom=8)"
   ]
  },
  {
   "cell_type": "code",
   "execution_count": 7,
   "metadata": {},
   "outputs": [
    {
     "data": {
      "text/plain": [
       "1"
      ]
     },
     "execution_count": 7,
     "metadata": {},
     "output_type": "execute_result"
    }
   ],
   "source": []
  },
  {
   "cell_type": "code",
   "execution_count": null,
   "metadata": {
    "collapsed": true
   },
   "outputs": [],
   "source": []
  }
 ],
 "metadata": {
  "kernelspec": {
   "display_name": "Python 3",
   "language": "python",
   "name": "python3"
  },
  "language_info": {
   "codemirror_mode": {
    "name": "ipython",
    "version": 3
   },
   "file_extension": ".py",
   "mimetype": "text/x-python",
   "name": "python",
   "nbconvert_exporter": "python",
   "pygments_lexer": "ipython3",
   "version": "3.6.3"
  }
 },
 "nbformat": 4,
 "nbformat_minor": 2
}
