{
 "cells": [
  {
   "cell_type": "code",
   "execution_count": 1,
   "metadata": {
    "collapsed": true
   },
   "outputs": [],
   "source": [
    "import hail as hl\n",
    "import hail.expr.aggregators as agg"
   ]
  },
  {
   "cell_type": "code",
   "execution_count": 2,
   "metadata": {
    "collapsed": true
   },
   "outputs": [],
   "source": [
    "hl.init(quiet=True)"
   ]
  },
  {
   "cell_type": "code",
   "execution_count": 3,
   "metadata": {
    "collapsed": true
   },
   "outputs": [],
   "source": [
    "schema = {'variant': hl.tstr, 'rsid': hl.tstr, 'nCompleteSamples': hl.tint32,\n",
    "         'AC': hl.tfloat64, 'ytx': hl.tfloat64, 'beta': hl.tfloat64,\n",
    "         'se': hl.tfloat64, 'tstat': hl.tfloat64, 'pval': hl.tfloat64}\n",
    "\n",
    "standing_height_mt_path = '/Users/maccum/manhattan/data/standing_height/'\n",
    "\n",
    "manhattan_table_path = '/Users/maccum/manhattan/data/standing_height2/'\n",
    "\n",
    "colors = {'1' : \"#F73A12\", '2' : \"#BFF712\", '3' : \"#F7B912\", '4' : \"#F78112\", \n",
    "                '5' : \"#1DA14F\", '6' : \"#651DA1\", '7' : \"#26DAE3\", '8' : \"#768CCC\", \n",
    "                '9' : \"#CF19EC\", '10' : \"#A11D7F\", '11' : \"#EC195C\", '12' : \"#19EC43\", \n",
    "                '13' : \"#30666F\", '14' : \"#F7CA48\", '15' : \"#48F770\", '16' : \"#7A48F7\", \n",
    "                '17' : \"#F74863\", '18' : \"#322C2D\", '19' : \"#B9C147\", '20' : \"#B7B0B1\", \n",
    "                '21' : \"#64C1B9\", '22' : \"#349C21\", 'X' : \"#2D396E\"}"
   ]
  },
  {
   "cell_type": "code",
   "execution_count": 4,
   "metadata": {
    "collapsed": true
   },
   "outputs": [],
   "source": [
    "import slippyplot as sp"
   ]
  },
  {
   "cell_type": "code",
   "execution_count": 5,
   "metadata": {},
   "outputs": [],
   "source": [
    "#caffeineGen = Generator('../plots/caffeine_plots', '../data/caffeine.ht', regenerate=False)\n",
    "caffeineGen = sp.PlotGenerator(root_folder='/Users/maccum/manhattan/plots/svg_tutorial_plots', \n",
    "                            regenerate=False,\n",
    "                            table_path='/Users/maccum/manhattan/data/caffeine.ht')\n",
    "#caffeineGen.generate_svg(2, new_log_file=True)\n",
    "caffeineGen.generate_svg(3)\n",
    "#caffeineGen.generate_svg(4)\n",
    "#caffeineGen.generate_svg(5)\n",
    "#caffeineGen.generate_svg(6)\n",
    "#caffeineGen.generate_svg(7)\n"
   ]
  },
  {
   "cell_type": "code",
   "execution_count": 6,
   "metadata": {},
   "outputs": [
    {
     "data": {
      "text/plain": [
       "[-5, 3035120658]"
      ]
     },
     "execution_count": 6,
     "metadata": {},
     "output_type": "execute_result"
    }
   ],
   "source": [
    "caffeineGen.x_axis_range"
   ]
  },
  {
   "cell_type": "code",
   "execution_count": 7,
   "metadata": {},
   "outputs": [
    {
     "data": {
      "text/plain": [
       "[0, 11.592828933781343]"
      ]
     },
     "execution_count": 7,
     "metadata": {},
     "output_type": "execute_result"
    }
   ],
   "source": [
    "caffeineGen.y_axis_range"
   ]
  },
  {
   "cell_type": "code",
   "execution_count": null,
   "metadata": {
    "collapsed": true
   },
   "outputs": [],
   "source": []
  }
 ],
 "metadata": {
  "kernelspec": {
   "display_name": "Python 3",
   "language": "python",
   "name": "python3"
  },
  "language_info": {
   "codemirror_mode": {
    "name": "ipython",
    "version": 3
   },
   "file_extension": ".py",
   "mimetype": "text/x-python",
   "name": "python",
   "nbconvert_exporter": "python",
   "pygments_lexer": "ipython3",
   "version": "3.6.3"
  }
 },
 "nbformat": 4,
 "nbformat_minor": 2
}
