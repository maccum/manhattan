{
 "cells": [
  {
   "cell_type": "code",
   "execution_count": 9,
   "metadata": {
    "collapsed": true
   },
   "outputs": [],
   "source": [
    "import hail as hl\n",
    "import hail.expr.aggregators as agg"
   ]
  },
  {
   "cell_type": "code",
   "execution_count": 10,
   "metadata": {},
   "outputs": [
    {
     "ename": "FatalError",
     "evalue": "Hail has already been initialized, restart session or stop Hail to change configuration.",
     "output_type": "error",
     "traceback": [
      "\u001b[0;31m---------------------------------------------------------------------------\u001b[0m",
      "\u001b[0;31mFatalError\u001b[0m                                Traceback (most recent call last)",
      "\u001b[0;32m<ipython-input-10-809c0869aae1>\u001b[0m in \u001b[0;36m<module>\u001b[0;34m()\u001b[0m\n\u001b[0;32m----> 1\u001b[0;31m \u001b[0mhl\u001b[0m\u001b[0;34m.\u001b[0m\u001b[0minit\u001b[0m\u001b[0;34m(\u001b[0m\u001b[0;34m)\u001b[0m\u001b[0;34m\u001b[0m\u001b[0m\n\u001b[0m",
      "\u001b[0;32m~/hail/python/hail/typecheck/check.py\u001b[0m in \u001b[0;36mwrapper\u001b[0;34m(*args, **kwargs)\u001b[0m\n\u001b[1;32m    545\u001b[0m         \u001b[0;32mdef\u001b[0m \u001b[0mwrapper\u001b[0m\u001b[0;34m(\u001b[0m\u001b[0;34m*\u001b[0m\u001b[0margs\u001b[0m\u001b[0;34m,\u001b[0m \u001b[0;34m**\u001b[0m\u001b[0mkwargs\u001b[0m\u001b[0;34m)\u001b[0m\u001b[0;34m:\u001b[0m\u001b[0;34m\u001b[0m\u001b[0m\n\u001b[1;32m    546\u001b[0m             \u001b[0margs_\u001b[0m\u001b[0;34m,\u001b[0m \u001b[0mkwargs_\u001b[0m \u001b[0;34m=\u001b[0m \u001b[0mcheck_all\u001b[0m\u001b[0;34m(\u001b[0m\u001b[0mf\u001b[0m\u001b[0;34m,\u001b[0m \u001b[0margs\u001b[0m\u001b[0;34m,\u001b[0m \u001b[0mkwargs\u001b[0m\u001b[0;34m,\u001b[0m \u001b[0mcheckers\u001b[0m\u001b[0;34m,\u001b[0m \u001b[0mis_method\u001b[0m\u001b[0;34m=\u001b[0m\u001b[0mis_method\u001b[0m\u001b[0;34m)\u001b[0m\u001b[0;34m\u001b[0m\u001b[0m\n\u001b[0;32m--> 547\u001b[0;31m             \u001b[0;32mreturn\u001b[0m \u001b[0mf\u001b[0m\u001b[0;34m(\u001b[0m\u001b[0;34m*\u001b[0m\u001b[0margs_\u001b[0m\u001b[0;34m,\u001b[0m \u001b[0;34m**\u001b[0m\u001b[0mkwargs_\u001b[0m\u001b[0;34m)\u001b[0m\u001b[0;34m\u001b[0m\u001b[0m\n\u001b[0m\u001b[1;32m    548\u001b[0m \u001b[0;34m\u001b[0m\u001b[0m\n\u001b[1;32m    549\u001b[0m         \u001b[0mupdate_wrapper\u001b[0m\u001b[0;34m(\u001b[0m\u001b[0mwrapper\u001b[0m\u001b[0;34m,\u001b[0m \u001b[0mf\u001b[0m\u001b[0;34m)\u001b[0m\u001b[0;34m\u001b[0m\u001b[0m\n",
      "\u001b[0;32m~/hail/python/hail/context.py\u001b[0m in \u001b[0;36minit\u001b[0;34m(sc, app_name, master, local, log, quiet, append, min_block_size, branching_factor, tmp_dir, default_reference)\u001b[0m\n\u001b[1;32m    156\u001b[0m     HailContext(sc, app_name, master, local, log, quiet, append,\n\u001b[1;32m    157\u001b[0m                 \u001b[0mmin_block_size\u001b[0m\u001b[0;34m,\u001b[0m \u001b[0mbranching_factor\u001b[0m\u001b[0;34m,\u001b[0m \u001b[0mtmp_dir\u001b[0m\u001b[0;34m,\u001b[0m\u001b[0;34m\u001b[0m\u001b[0m\n\u001b[0;32m--> 158\u001b[0;31m                 default_reference)\n\u001b[0m\u001b[1;32m    159\u001b[0m \u001b[0;34m\u001b[0m\u001b[0m\n\u001b[1;32m    160\u001b[0m \u001b[0;32mdef\u001b[0m \u001b[0mstop\u001b[0m\u001b[0;34m(\u001b[0m\u001b[0;34m)\u001b[0m\u001b[0;34m:\u001b[0m\u001b[0;34m\u001b[0m\u001b[0m\n",
      "\u001b[0;32m~/hail/python/hail/typecheck/check.py\u001b[0m in \u001b[0;36mwrapper\u001b[0;34m(*args, **kwargs)\u001b[0m\n\u001b[1;32m    545\u001b[0m         \u001b[0;32mdef\u001b[0m \u001b[0mwrapper\u001b[0m\u001b[0;34m(\u001b[0m\u001b[0;34m*\u001b[0m\u001b[0margs\u001b[0m\u001b[0;34m,\u001b[0m \u001b[0;34m**\u001b[0m\u001b[0mkwargs\u001b[0m\u001b[0;34m)\u001b[0m\u001b[0;34m:\u001b[0m\u001b[0;34m\u001b[0m\u001b[0m\n\u001b[1;32m    546\u001b[0m             \u001b[0margs_\u001b[0m\u001b[0;34m,\u001b[0m \u001b[0mkwargs_\u001b[0m \u001b[0;34m=\u001b[0m \u001b[0mcheck_all\u001b[0m\u001b[0;34m(\u001b[0m\u001b[0mf\u001b[0m\u001b[0;34m,\u001b[0m \u001b[0margs\u001b[0m\u001b[0;34m,\u001b[0m \u001b[0mkwargs\u001b[0m\u001b[0;34m,\u001b[0m \u001b[0mcheckers\u001b[0m\u001b[0;34m,\u001b[0m \u001b[0mis_method\u001b[0m\u001b[0;34m=\u001b[0m\u001b[0mis_method\u001b[0m\u001b[0;34m)\u001b[0m\u001b[0;34m\u001b[0m\u001b[0m\n\u001b[0;32m--> 547\u001b[0;31m             \u001b[0;32mreturn\u001b[0m \u001b[0mf\u001b[0m\u001b[0;34m(\u001b[0m\u001b[0;34m*\u001b[0m\u001b[0margs_\u001b[0m\u001b[0;34m,\u001b[0m \u001b[0;34m**\u001b[0m\u001b[0mkwargs_\u001b[0m\u001b[0;34m)\u001b[0m\u001b[0;34m\u001b[0m\u001b[0m\n\u001b[0m\u001b[1;32m    548\u001b[0m \u001b[0;34m\u001b[0m\u001b[0m\n\u001b[1;32m    549\u001b[0m         \u001b[0mupdate_wrapper\u001b[0m\u001b[0;34m(\u001b[0m\u001b[0mwrapper\u001b[0m\u001b[0;34m,\u001b[0m \u001b[0mf\u001b[0m\u001b[0;34m)\u001b[0m\u001b[0;34m\u001b[0m\u001b[0m\n",
      "\u001b[0;32m~/hail/python/hail/context.py\u001b[0m in \u001b[0;36m__init__\u001b[0;34m(self, sc, app_name, master, local, log, quiet, append, min_block_size, branching_factor, tmp_dir, default_reference)\u001b[0m\n\u001b[1;32m     29\u001b[0m \u001b[0;34m\u001b[0m\u001b[0m\n\u001b[1;32m     30\u001b[0m         \u001b[0;32mif\u001b[0m \u001b[0mEnv\u001b[0m\u001b[0;34m.\u001b[0m\u001b[0m_hc\u001b[0m\u001b[0;34m:\u001b[0m\u001b[0;34m\u001b[0m\u001b[0m\n\u001b[0;32m---> 31\u001b[0;31m             raise FatalError('Hail has already been initialized, restart session '\n\u001b[0m\u001b[1;32m     32\u001b[0m                              'or stop Hail to change configuration.')\n\u001b[1;32m     33\u001b[0m \u001b[0;34m\u001b[0m\u001b[0m\n",
      "\u001b[0;31mFatalError\u001b[0m: Hail has already been initialized, restart session or stop Hail to change configuration."
     ]
    }
   ],
   "source": [
    "hl.init()"
   ]
  },
  {
   "cell_type": "code",
   "execution_count": 4,
   "metadata": {},
   "outputs": [
    {
     "name": "stderr",
     "output_type": "stream",
     "text": [
      "2018-06-27 15:03:28 Hail: INFO: Reading table with no type imputation\n",
      "  Loading column 'variant' as type 'str' (user-specified)\n",
      "  Loading column 'rsid' as type 'str' (user-specified)\n",
      "  Loading column 'nCompleteSamples' as type 'int32' (user-specified)\n",
      "  Loading column 'AC' as type 'float64' (user-specified)\n",
      "  Loading column 'ytx' as type 'float64' (user-specified)\n",
      "  Loading column 'beta' as type 'float64' (user-specified)\n",
      "  Loading column 'se' as type 'float64' (user-specified)\n",
      "  Loading column 'tstat' as type 'float64' (user-specified)\n",
      "  Loading column 'pval' as type 'float64' (user-specified)\n",
      "\n"
     ]
    }
   ],
   "source": [
    "schema = {'variant': hl.tstr, 'rsid': hl.tstr, 'nCompleteSamples': hl.tint32,\n",
    "         'AC': hl.tfloat64, 'ytx': hl.tfloat64, 'beta': hl.tfloat64,\n",
    "         'se': hl.tfloat64, 'tstat': hl.tfloat64, 'pval': hl.tfloat64}\n",
    "\n",
    "standing_height = hl.import_table('/Users/maccum/manhattan/50.assoc.tsv', key='variant', types=schema)"
   ]
  },
  {
   "cell_type": "code",
   "execution_count": 5,
   "metadata": {
    "collapsed": true
   },
   "outputs": [],
   "source": [
    "standing_height = standing_height.rename({\"variant\": \"contig:pos:ref:alt1,alt2\"})"
   ]
  },
  {
   "cell_type": "code",
   "execution_count": 12,
   "metadata": {
    "collapsed": true
   },
   "outputs": [],
   "source": [
    "sh_path = '/Users/maccum/manhattan/data/standing_height/'"
   ]
  },
  {
   "cell_type": "code",
   "execution_count": 7,
   "metadata": {},
   "outputs": [
    {
     "name": "stderr",
     "output_type": "stream",
     "text": [
      "2018-06-27 15:05:27 Hail: INFO: wrote 10894596 items in 35 partitions\n"
     ]
    }
   ],
   "source": [
    "standing_height.write(sh_path, overwrite=True)"
   ]
  },
  {
   "cell_type": "code",
   "execution_count": 13,
   "metadata": {},
   "outputs": [],
   "source": [
    "standing_height = hl.read_table(sh_path)"
   ]
  },
  {
   "cell_type": "code",
   "execution_count": 14,
   "metadata": {},
   "outputs": [
    {
     "name": "stdout",
     "output_type": "stream",
     "text": [
      "----------------------------------------\n",
      "Global fields:\n",
      "    None\n",
      "----------------------------------------\n",
      "Row fields:\n",
      "    'contig:pos:ref:alt1,alt2': str \n",
      "    'rsid': str \n",
      "    'nCompleteSamples': int32 \n",
      "    'AC': float64 \n",
      "    'ytx': float64 \n",
      "    'beta': float64 \n",
      "    'se': float64 \n",
      "    'tstat': float64 \n",
      "    'pval': float64 \n",
      "----------------------------------------\n",
      "Key: ['contig:pos:ref:alt1,alt2']\n",
      "----------------------------------------\n"
     ]
    }
   ],
   "source": [
    "standing_height.describe()"
   ]
  },
  {
   "cell_type": "code",
   "execution_count": 15,
   "metadata": {},
   "outputs": [
    {
     "data": {
      "text/plain": [
       "10894596"
      ]
     },
     "execution_count": 15,
     "metadata": {},
     "output_type": "execute_result"
    }
   ],
   "source": [
    "standing_height.count()"
   ]
  },
  {
   "cell_type": "code",
   "execution_count": 16,
   "metadata": {},
   "outputs": [
    {
     "name": "stderr",
     "output_type": "stream",
     "text": [
      "2018-06-27 21:04:10 Hail: INFO: Ordering unsorted dataset with network shuffle\n"
     ]
    },
    {
     "data": {
      "text/plain": [
       "10886886"
      ]
     },
     "execution_count": 16,
     "metadata": {},
     "output_type": "execute_result"
    }
   ],
   "source": [
    "sh_with_variant = (standing_height.annotate(variant = hl.parse_variant(standing_height['contig:pos:ref:alt1,alt2'])))\n",
    "sh_with_variant.key_by(sh_with_variant.variant.locus).distinct().count()"
   ]
  },
  {
   "cell_type": "code",
   "execution_count": 2,
   "metadata": {
    "collapsed": true
   },
   "outputs": [],
   "source": [
    "sh2_path = '/Users/maccum/manhattan/data/standing_height2/'"
   ]
  },
  {
   "cell_type": "code",
   "execution_count": 11,
   "metadata": {},
   "outputs": [
    {
     "name": "stderr",
     "output_type": "stream",
     "text": [
      "2018-06-27 15:09:28 Hail: INFO: Ordering unsorted dataset with network shuffle\n",
      "2018-06-27 15:12:17 Hail: INFO: wrote 10894596 items in 35 partitions\n"
     ]
    }
   ],
   "source": [
    "# get table with global_position, neg_log_pval, color\n",
    "\n",
    "colors = {'1' : \"#F73A12\", '2' : \"#BFF712\", '3' : \"#F7B912\", '4' : \"#F78112\", \n",
    "                '5' : \"#1DA14F\", '6' : \"#651DA1\", '7' : \"#26DAE3\", '8' : \"#768CCC\", \n",
    "                '9' : \"#CF19EC\", '10' : \"#A11D7F\", '11' : \"#EC195C\", '12' : \"#19EC43\", \n",
    "                '13' : \"#30666F\", '14' : \"#F7CA48\", '15' : \"#48F770\", '16' : \"#7A48F7\", \n",
    "                '17' : \"#F74863\", '18' : \"#322C2D\", '19' : \"#B9C147\", '20' : \"#B7B0B1\", \n",
    "                '21' : \"#64C1B9\", '22' : \"#349C21\", 'X' : \"#2D396E\"}\n",
    "\n",
    "sh = standing_height.annotate(v = hl.parse_variant(standing_height['contig:pos:ref:alt1,alt2']))\n",
    "sh = sh.annotate_globals(color_dict = colors)\n",
    "sh = sh.annotate(global_position = sh.v.locus.global_position(),\n",
    "                neg_log_pval = -hl.log(sh.pval),\n",
    "                color = sh.color_dict[sh.v.locus.contig])\n",
    "sh = sh.key_by('global_position').select('neg_log_pval', 'color')\n",
    "\n",
    "sh.write(sh2_path, overwrite=True)"
   ]
  },
  {
   "cell_type": "code",
   "execution_count": 12,
   "metadata": {},
   "outputs": [
    {
     "name": "stdout",
     "output_type": "stream",
     "text": [
      "----------------------------------------\n",
      "Global fields:\n",
      "    'color_dict': dict<str, str> \n",
      "----------------------------------------\n",
      "Row fields:\n",
      "    'global_position': int64 \n",
      "    'neg_log_pval': float64 \n",
      "    'color': str \n",
      "----------------------------------------\n",
      "Key: ['global_position']\n",
      "----------------------------------------\n"
     ]
    }
   ],
   "source": [
    "sh.describe()"
   ]
  },
  {
   "cell_type": "code",
   "execution_count": 13,
   "metadata": {},
   "outputs": [
    {
     "name": "stderr",
     "output_type": "stream",
     "text": [
      "2018-06-27 15:13:53 Hail: INFO: Ordering unsorted dataset with network shuffle\n",
      "2018-06-27 15:16:04 Hail: INFO: Ordering unsorted dataset with network shuffle\n"
     ]
    },
    {
     "data": {
      "text/plain": [
       "(2880965782, 670.1746941369828)"
      ]
     },
     "execution_count": 13,
     "metadata": {},
     "output_type": "execute_result"
    }
   ],
   "source": [
    "max_global_position = sh.aggregate(agg.max(sh.global_position))\n",
    "max_nlp = sh.aggregate(agg.max(sh.neg_log_pval))\n",
    "(max_global_position, max_nlp)"
   ]
  },
  {
   "cell_type": "code",
   "execution_count": 1,
   "metadata": {
    "collapsed": true
   },
   "outputs": [],
   "source": [
    "import generator\n",
    "from generator.generator import Generator"
   ]
  },
  {
   "cell_type": "code",
   "execution_count": 2,
   "metadata": {},
   "outputs": [
    {
     "name": "stderr",
     "output_type": "stream",
     "text": [
      "Initializing Spark and Hail with default parameters...\n",
      "Running on Apache Spark version 2.2.0\n",
      "SparkUI available at http://10.1.7.107:4042\n",
      "Welcome to\n",
      "     __  __     <>__\n",
      "    / /_/ /__  __/ /\n",
      "   / __  / _ `/ / /\n",
      "  /_/ /_/\\_,_/_/_/   version devel-3e72697c3f47\n",
      "NOTE: This is a beta version. Interfaces may change\n",
      "  during the beta period. We recommend pulling\n",
      "  the latest changes weekly.\n"
     ]
    },
    {
     "name": "stdout",
     "output_type": "stream",
     "text": [
      "Zoom level: 2 |██████████████████████████████████████████████████| 100.0% Complete\n",
      "Zoom level: 3 |██████████████████████████████████████████████████| 100.0% Complete\n"
     ]
    }
   ],
   "source": [
    "caffeineGen = Generator('../plots/caffeine_plots', '../data/caffeine.ht', regenerate=False)\n",
    "caffeineGen.generate(2, new_log_file=True)\n",
    "caffeineGen.generate(3)\n",
    "#caffeineGen.generate(4)\n",
    "#caffeineGen.generate(5)\n",
    "#caffeineGen.generate(6)"
   ]
  },
  {
   "cell_type": "code",
   "execution_count": 3,
   "metadata": {},
   "outputs": [
    {
     "name": "stderr",
     "output_type": "stream",
     "text": [
      "Initializing Spark and Hail with default parameters...\n",
      "Running on Apache Spark version 2.2.0\n",
      "SparkUI available at http://10.1.7.107:4042\n",
      "Welcome to\n",
      "     __  __     <>__\n",
      "    / /_/ /__  __/ /\n",
      "   / __  / _ `/ / /\n",
      "  /_/ /_/\\_,_/_/_/   version devel-3e72697c3f47\n",
      "NOTE: This is a beta version. Interfaces may change\n",
      "  during the beta period. We recommend pulling\n",
      "  the latest changes weekly.\n"
     ]
    }
   ],
   "source": [
    "standingHeightGen = Generator('../plots/sh_plots', sh2_path, regenerate=False, \n",
    "                              max_position=2880965782, max_nlp=670.1746941369828)"
   ]
  },
  {
   "cell_type": "code",
   "execution_count": null,
   "metadata": {
    "collapsed": true
   },
   "outputs": [],
   "source": [
    "standingHeightGen.generate(2, new_log_file=True)"
   ]
  },
  {
   "cell_type": "code",
   "execution_count": 6,
   "metadata": {},
   "outputs": [
    {
     "name": "stdout",
     "output_type": "stream",
     "text": [
      "Zoom level: 3 |████████████████████████████████████████----------| 81.2% Complete\r"
     ]
    },
    {
     "name": "stderr",
     "output_type": "stream",
     "text": [
      "2018-06-27 17:39:39 Hail: INFO: Ordering unsorted dataset with network shuffle\n"
     ]
    },
    {
     "name": "stdout",
     "output_type": "stream",
     "text": [
      "\r",
      "Zoom level: 3 |███████████████████████████████████████████-------| 87.5% Complete\r"
     ]
    },
    {
     "name": "stderr",
     "output_type": "stream",
     "text": [
      "2018-06-27 17:43:15 Hail: INFO: Ordering unsorted dataset with network shuffle\n"
     ]
    },
    {
     "name": "stdout",
     "output_type": "stream",
     "text": [
      "\r",
      "Zoom level: 3 |██████████████████████████████████████████████----| 93.8% Complete\r"
     ]
    },
    {
     "name": "stderr",
     "output_type": "stream",
     "text": [
      "2018-06-27 17:44:49 Hail: INFO: Ordering unsorted dataset with network shuffle\n"
     ]
    },
    {
     "name": "stdout",
     "output_type": "stream",
     "text": [
      "\r",
      "Zoom level: 3 |██████████████████████████████████████████████████| 100.0% Complete\r\n"
     ]
    }
   ],
   "source": [
    "standingHeightGen.generate(3)"
   ]
  },
  {
   "cell_type": "code",
   "execution_count": 20,
   "metadata": {},
   "outputs": [
    {
     "name": "stdout",
     "output_type": "stream",
     "text": [
      "Zoom level: 4 |███████████████████████---------------------------| 46.9% Complete\r"
     ]
    },
    {
     "name": "stderr",
     "output_type": "stream",
     "text": [
      "2018-06-27 21:19:21 Hail: INFO: Ordering unsorted dataset with network shuffle\n"
     ]
    },
    {
     "name": "stdout",
     "output_type": "stream",
     "text": [
      "\r",
      "Zoom level: 4 |████████████████████████--------------------------| 48.4% Complete\r"
     ]
    },
    {
     "name": "stderr",
     "output_type": "stream",
     "text": [
      "2018-06-27 21:20:50 Hail: INFO: Ordering unsorted dataset with network shuffle\n"
     ]
    },
    {
     "name": "stdout",
     "output_type": "stream",
     "text": [
      "Zoom level: 4 |██████████████████████████------------------------| 53.1% Complete\r"
     ]
    },
    {
     "name": "stderr",
     "output_type": "stream",
     "text": [
      "2018-06-27 21:24:59 Hail: INFO: Ordering unsorted dataset with network shuffle\n"
     ]
    },
    {
     "name": "stdout",
     "output_type": "stream",
     "text": [
      "\r",
      "Zoom level: 4 |███████████████████████████-----------------------| 54.7% Complete\r"
     ]
    },
    {
     "name": "stderr",
     "output_type": "stream",
     "text": [
      "2018-06-27 21:26:28 Hail: INFO: Ordering unsorted dataset with network shuffle\n"
     ]
    },
    {
     "name": "stdout",
     "output_type": "stream",
     "text": [
      "Zoom level: 4 |██████████████████████████████--------------------| 60.9% Complete\r"
     ]
    },
    {
     "name": "stderr",
     "output_type": "stream",
     "text": [
      "2018-06-27 21:31:37 Hail: INFO: Ordering unsorted dataset with network shuffle\n"
     ]
    },
    {
     "name": "stdout",
     "output_type": "stream",
     "text": [
      "Zoom level: 4 |████████████████████████████████------------------| 65.6% Complete\r"
     ]
    },
    {
     "name": "stderr",
     "output_type": "stream",
     "text": [
      "2018-06-27 21:36:11 Hail: INFO: Ordering unsorted dataset with network shuffle\n"
     ]
    },
    {
     "name": "stdout",
     "output_type": "stream",
     "text": [
      "\r",
      "Zoom level: 4 |█████████████████████████████████-----------------| 67.2% Complete\r"
     ]
    },
    {
     "name": "stderr",
     "output_type": "stream",
     "text": [
      "2018-06-27 21:37:45 Hail: INFO: Ordering unsorted dataset with network shuffle\n"
     ]
    },
    {
     "name": "stdout",
     "output_type": "stream",
     "text": [
      "Zoom level: 4 |███████████████████████████████████---------------| 71.9% Complete\r"
     ]
    },
    {
     "name": "stderr",
     "output_type": "stream",
     "text": [
      "2018-06-27 21:42:03 Hail: INFO: Ordering unsorted dataset with network shuffle\n"
     ]
    },
    {
     "name": "stdout",
     "output_type": "stream",
     "text": [
      "\r",
      "Zoom level: 4 |████████████████████████████████████--------------| 73.4% Complete\r"
     ]
    },
    {
     "name": "stderr",
     "output_type": "stream",
     "text": [
      "2018-06-27 21:43:37 Hail: INFO: Ordering unsorted dataset with network shuffle\n"
     ]
    },
    {
     "name": "stdout",
     "output_type": "stream",
     "text": [
      "Zoom level: 4 |███████████████████████████████████████-----------| 78.1% Complete\r"
     ]
    },
    {
     "name": "stderr",
     "output_type": "stream",
     "text": [
      "2018-06-27 21:47:29 Hail: INFO: Coerced sorted dataset\n"
     ]
    },
    {
     "name": "stdout",
     "output_type": "stream",
     "text": [
      "\r",
      "Zoom level: 4 |███████████████████████████████████████-----------| 79.7% Complete\r"
     ]
    },
    {
     "name": "stderr",
     "output_type": "stream",
     "text": [
      "2018-06-27 21:48:17 Hail: INFO: Ordering unsorted dataset with network shuffle\n"
     ]
    },
    {
     "name": "stdout",
     "output_type": "stream",
     "text": [
      "Zoom level: 4 |██████████████████████████████████████████--------| 84.4% Complete\r"
     ]
    },
    {
     "name": "stderr",
     "output_type": "stream",
     "text": [
      "2018-06-27 21:51:59 Hail: INFO: Ordering unsorted dataset with network shuffle\n"
     ]
    },
    {
     "name": "stdout",
     "output_type": "stream",
     "text": [
      "\r",
      "Zoom level: 4 |██████████████████████████████████████████--------| 85.9% Complete\r"
     ]
    },
    {
     "name": "stderr",
     "output_type": "stream",
     "text": [
      "2018-06-27 21:53:29 Hail: INFO: Ordering unsorted dataset with network shuffle\n"
     ]
    },
    {
     "name": "stdout",
     "output_type": "stream",
     "text": [
      "Zoom level: 4 |█████████████████████████████████████████████-----| 90.6% Complete\r"
     ]
    },
    {
     "name": "stderr",
     "output_type": "stream",
     "text": [
      "2018-06-27 21:57:24 Hail: INFO: Ordering unsorted dataset with network shuffle\n"
     ]
    },
    {
     "name": "stdout",
     "output_type": "stream",
     "text": [
      "\r",
      "Zoom level: 4 |██████████████████████████████████████████████----| 92.2% Complete\r"
     ]
    },
    {
     "name": "stderr",
     "output_type": "stream",
     "text": [
      "2018-06-27 21:58:54 Hail: INFO: Ordering unsorted dataset with network shuffle\n"
     ]
    },
    {
     "name": "stdout",
     "output_type": "stream",
     "text": [
      "\r",
      "Zoom level: 4 |██████████████████████████████████████████████----| 93.8% Complete\r"
     ]
    },
    {
     "name": "stderr",
     "output_type": "stream",
     "text": [
      "2018-06-27 22:01:23 Hail: INFO: Ordering unsorted dataset with network shuffle\n"
     ]
    },
    {
     "name": "stdout",
     "output_type": "stream",
     "text": [
      "\r",
      "Zoom level: 4 |███████████████████████████████████████████████---| 95.3% Complete\r"
     ]
    },
    {
     "name": "stderr",
     "output_type": "stream",
     "text": [
      "2018-06-27 22:02:59 Hail: INFO: Ordering unsorted dataset with network shuffle\n"
     ]
    },
    {
     "name": "stdout",
     "output_type": "stream",
     "text": [
      "\r",
      "Zoom level: 4 |████████████████████████████████████████████████--| 96.9% Complete\r"
     ]
    },
    {
     "name": "stderr",
     "output_type": "stream",
     "text": [
      "2018-06-27 22:04:29 Hail: INFO: Ordering unsorted dataset with network shuffle\n"
     ]
    },
    {
     "name": "stdout",
     "output_type": "stream",
     "text": [
      "\r",
      "Zoom level: 4 |█████████████████████████████████████████████████-| 98.4% Complete\r"
     ]
    },
    {
     "name": "stderr",
     "output_type": "stream",
     "text": [
      "2018-06-27 22:06:04 Hail: INFO: Ordering unsorted dataset with network shuffle\n"
     ]
    },
    {
     "name": "stdout",
     "output_type": "stream",
     "text": [
      "\r",
      "Zoom level: 4 |██████████████████████████████████████████████████| 100.0% Complete\r\n"
     ]
    }
   ],
   "source": [
    "standingHeightGen.generate(4)"
   ]
  },
  {
   "cell_type": "code",
   "execution_count": 4,
   "metadata": {},
   "outputs": [
    {
     "name": "stdout",
     "output_type": "stream",
     "text": [
      "\r",
      "Zoom level: 5 |--------------------------------------------------| 0.4% Complete\r",
      "\r",
      "Zoom level: 5 |--------------------------------------------------| 0.8% Complete\r",
      "\r",
      "Zoom level: 5 |--------------------------------------------------| 1.2% Complete\r",
      "\r",
      "Zoom level: 5 |--------------------------------------------------| 1.6% Complete\r",
      "\r",
      "Zoom level: 5 |--------------------------------------------------| 2.0% Complete\r",
      "\r",
      "Zoom level: 5 |█-------------------------------------------------| 2.3% Complete\r",
      "\r",
      "Zoom level: 5 |█-------------------------------------------------| 2.7% Complete\r",
      "\r",
      "Zoom level: 5 |█-------------------------------------------------| 3.1% Complete\r",
      "\r",
      "Zoom level: 5 |█-------------------------------------------------| 3.5% Complete\r",
      "\r",
      "Zoom level: 5 |█-------------------------------------------------| 3.9% Complete\r",
      "\r",
      "Zoom level: 5 |██------------------------------------------------| 4.3% Complete\r",
      "\r",
      "Zoom level: 5 |██------------------------------------------------| 4.7% Complete\r",
      "\r",
      "Zoom level: 5 |██------------------------------------------------| 5.1% Complete\r",
      "\r",
      "Zoom level: 5 |██------------------------------------------------| 5.5% Complete\r",
      "\r",
      "Zoom level: 5 |██------------------------------------------------| 5.9% Complete\r",
      "\r",
      "Zoom level: 5 |███-----------------------------------------------| 6.2% Complete\r",
      "\r",
      "Zoom level: 5 |███-----------------------------------------------| 6.6% Complete\r",
      "\r",
      "Zoom level: 5 |███-----------------------------------------------| 7.0% Complete\r",
      "\r",
      "Zoom level: 5 |███-----------------------------------------------| 7.4% Complete\r",
      "\r",
      "Zoom level: 5 |███-----------------------------------------------| 7.8% Complete\r",
      "\r",
      "Zoom level: 5 |████----------------------------------------------| 8.2% Complete\r",
      "\r",
      "Zoom level: 5 |████----------------------------------------------| 8.6% Complete\r",
      "\r",
      "Zoom level: 5 |████----------------------------------------------| 9.0% Complete\r",
      "\r",
      "Zoom level: 5 |████----------------------------------------------| 9.4% Complete\r",
      "\r",
      "Zoom level: 5 |████----------------------------------------------| 9.8% Complete\r",
      "\r",
      "Zoom level: 5 |█████---------------------------------------------| 10.2% Complete\r",
      "\r",
      "Zoom level: 5 |█████---------------------------------------------| 10.5% Complete\r",
      "\r",
      "Zoom level: 5 |█████---------------------------------------------| 10.9% Complete\r",
      "\r",
      "Zoom level: 5 |█████---------------------------------------------| 11.3% Complete\r",
      "\r",
      "Zoom level: 5 |█████---------------------------------------------| 11.7% Complete\r",
      "\r",
      "Zoom level: 5 |██████--------------------------------------------| 12.1% Complete\r",
      "\r",
      "Zoom level: 5 |██████--------------------------------------------| 12.5% Complete\r",
      "\r",
      "Zoom level: 5 |██████--------------------------------------------| 12.9% Complete\r",
      "\r",
      "Zoom level: 5 |██████--------------------------------------------| 13.3% Complete\r",
      "\r",
      "Zoom level: 5 |██████--------------------------------------------| 13.7% Complete\r",
      "\r",
      "Zoom level: 5 |███████-------------------------------------------| 14.1% Complete\r",
      "\r",
      "Zoom level: 5 |███████-------------------------------------------| 14.5% Complete\r",
      "\r",
      "Zoom level: 5 |███████-------------------------------------------| 14.8% Complete\r",
      "\r",
      "Zoom level: 5 |███████-------------------------------------------| 15.2% Complete\r",
      "\r",
      "Zoom level: 5 |███████-------------------------------------------| 15.6% Complete\r",
      "\r",
      "Zoom level: 5 |████████------------------------------------------| 16.0% Complete\r",
      "\r",
      "Zoom level: 5 |████████------------------------------------------| 16.4% Complete\r",
      "\r",
      "Zoom level: 5 |████████------------------------------------------| 16.8% Complete\r",
      "\r",
      "Zoom level: 5 |████████------------------------------------------| 17.2% Complete\r",
      "\r",
      "Zoom level: 5 |████████------------------------------------------| 17.6% Complete\r",
      "\r",
      "Zoom level: 5 |████████------------------------------------------| 18.0% Complete\r",
      "\r",
      "Zoom level: 5 |█████████-----------------------------------------| 18.4% Complete\r",
      "\r",
      "Zoom level: 5 |█████████-----------------------------------------| 18.8% Complete\r",
      "\r",
      "Zoom level: 5 |█████████-----------------------------------------| 19.1% Complete\r",
      "\r",
      "Zoom level: 5 |█████████-----------------------------------------| 19.5% Complete\r",
      "\r",
      "Zoom level: 5 |█████████-----------------------------------------| 19.9% Complete\r",
      "\r",
      "Zoom level: 5 |██████████----------------------------------------| 20.3% Complete\r",
      "\r",
      "Zoom level: 5 |██████████----------------------------------------| 20.7% Complete\r",
      "\r",
      "Zoom level: 5 |██████████----------------------------------------| 21.1% Complete\r",
      "\r",
      "Zoom level: 5 |██████████----------------------------------------| 21.5% Complete\r",
      "\r",
      "Zoom level: 5 |██████████----------------------------------------| 21.9% Complete\r",
      "\r",
      "Zoom level: 5 |███████████---------------------------------------| 22.3% Complete\r",
      "\r",
      "Zoom level: 5 |███████████---------------------------------------| 22.7% Complete\r",
      "\r",
      "Zoom level: 5 |███████████---------------------------------------| 23.0% Complete\r",
      "\r",
      "Zoom level: 5 |███████████---------------------------------------| 23.4% Complete\r",
      "\r",
      "Zoom level: 5 |███████████---------------------------------------| 23.8% Complete\r",
      "\r",
      "Zoom level: 5 |████████████--------------------------------------| 24.2% Complete\r",
      "\r",
      "Zoom level: 5 |████████████--------------------------------------| 24.6% Complete\r",
      "\r",
      "Zoom level: 5 |████████████--------------------------------------| 25.0% Complete\r",
      "\r",
      "Zoom level: 5 |████████████--------------------------------------| 25.4% Complete\r",
      "\r",
      "Zoom level: 5 |████████████--------------------------------------| 25.8% Complete\r",
      "\r",
      "Zoom level: 5 |█████████████-------------------------------------| 26.2% Complete\r",
      "\r",
      "Zoom level: 5 |█████████████-------------------------------------| 26.6% Complete\r",
      "\r",
      "Zoom level: 5 |█████████████-------------------------------------| 27.0% Complete\r",
      "\r",
      "Zoom level: 5 |█████████████-------------------------------------| 27.3% Complete\r",
      "\r",
      "Zoom level: 5 |█████████████-------------------------------------| 27.7% Complete\r",
      "\r",
      "Zoom level: 5 |██████████████------------------------------------| 28.1% Complete\r",
      "\r",
      "Zoom level: 5 |██████████████------------------------------------| 28.5% Complete\r",
      "\r",
      "Zoom level: 5 |██████████████------------------------------------| 28.9% Complete\r",
      "\r",
      "Zoom level: 5 |██████████████------------------------------------| 29.3% Complete\r",
      "\r",
      "Zoom level: 5 |██████████████------------------------------------| 29.7% Complete\r",
      "\r",
      "Zoom level: 5 |███████████████-----------------------------------| 30.1% Complete\r",
      "\r",
      "Zoom level: 5 |███████████████-----------------------------------| 30.5% Complete\r",
      "\r",
      "Zoom level: 5 |███████████████-----------------------------------| 30.9% Complete\r",
      "\r",
      "Zoom level: 5 |███████████████-----------------------------------| 31.2% Complete\r",
      "\r",
      "Zoom level: 5 |███████████████-----------------------------------| 31.6% Complete\r",
      "\r",
      "Zoom level: 5 |████████████████----------------------------------| 32.0% Complete\r",
      "\r",
      "Zoom level: 5 |████████████████----------------------------------| 32.4% Complete\r",
      "\r",
      "Zoom level: 5 |████████████████----------------------------------| 32.8% Complete\r",
      "\r",
      "Zoom level: 5 |████████████████----------------------------------| 33.2% Complete\r",
      "\r",
      "Zoom level: 5 |████████████████----------------------------------| 33.6% Complete\r",
      "\r",
      "Zoom level: 5 |████████████████----------------------------------| 34.0% Complete\r",
      "\r",
      "Zoom level: 5 |█████████████████---------------------------------| 34.4% Complete\r",
      "\r",
      "Zoom level: 5 |█████████████████---------------------------------| 34.8% Complete\r",
      "\r",
      "Zoom level: 5 |█████████████████---------------------------------| 35.2% Complete\r",
      "\r",
      "Zoom level: 5 |█████████████████---------------------------------| 35.5% Complete\r",
      "\r",
      "Zoom level: 5 |█████████████████---------------------------------| 35.9% Complete\r",
      "\r",
      "Zoom level: 5 |██████████████████--------------------------------| 36.3% Complete\r",
      "\r",
      "Zoom level: 5 |██████████████████--------------------------------| 36.7% Complete\r",
      "\r",
      "Zoom level: 5 |██████████████████--------------------------------| 37.1% Complete\r",
      "\r",
      "Zoom level: 5 |██████████████████--------------------------------| 37.5% Complete\r",
      "\r",
      "Zoom level: 5 |██████████████████--------------------------------| 37.9% Complete\r",
      "\r",
      "Zoom level: 5 |███████████████████-------------------------------| 38.3% Complete\r",
      "\r",
      "Zoom level: 5 |███████████████████-------------------------------| 38.7% Complete\r",
      "\r",
      "Zoom level: 5 |███████████████████-------------------------------| 39.1% Complete\r",
      "\r",
      "Zoom level: 5 |███████████████████-------------------------------| 39.5% Complete\r",
      "\r",
      "Zoom level: 5 |███████████████████-------------------------------| 39.8% Complete\r",
      "\r",
      "Zoom level: 5 |████████████████████------------------------------| 40.2% Complete\r",
      "\r",
      "Zoom level: 5 |████████████████████------------------------------| 40.6% Complete\r",
      "\r",
      "Zoom level: 5 |████████████████████------------------------------| 41.0% Complete\r",
      "\r",
      "Zoom level: 5 |████████████████████------------------------------| 41.4% Complete\r",
      "\r",
      "Zoom level: 5 |████████████████████------------------------------| 41.8% Complete\r",
      "\r",
      "Zoom level: 5 |█████████████████████-----------------------------| 42.2% Complete\r",
      "\r",
      "Zoom level: 5 |█████████████████████-----------------------------| 42.6% Complete\r",
      "\r",
      "Zoom level: 5 |█████████████████████-----------------------------| 43.0% Complete\r",
      "\r",
      "Zoom level: 5 |█████████████████████-----------------------------| 43.4% Complete\r",
      "\r",
      "Zoom level: 5 |█████████████████████-----------------------------| 43.8% Complete\r",
      "\r",
      "Zoom level: 5 |██████████████████████----------------------------| 44.1% Complete\r",
      "\r",
      "Zoom level: 5 |██████████████████████----------------------------| 44.5% Complete\r",
      "\r",
      "Zoom level: 5 |██████████████████████----------------------------| 44.9% Complete\r",
      "\r",
      "Zoom level: 5 |██████████████████████----------------------------| 45.3% Complete\r",
      "\r",
      "Zoom level: 5 |██████████████████████----------------------------| 45.7% Complete\r",
      "\r",
      "Zoom level: 5 |███████████████████████---------------------------| 46.1% Complete\r",
      "\r",
      "Zoom level: 5 |███████████████████████---------------------------| 46.5% Complete\r",
      "\r",
      "Zoom level: 5 |███████████████████████---------------------------| 46.9% Complete\r",
      "\r",
      "Zoom level: 5 |███████████████████████---------------------------| 47.3% Complete\r",
      "\r",
      "Zoom level: 5 |███████████████████████---------------------------| 47.7% Complete\r",
      "\r",
      "Zoom level: 5 |████████████████████████--------------------------| 48.0% Complete\r",
      "\r",
      "Zoom level: 5 |████████████████████████--------------------------| 48.4% Complete\r",
      "\r",
      "Zoom level: 5 |████████████████████████--------------------------| 48.8% Complete\r",
      "\r",
      "Zoom level: 5 |████████████████████████--------------------------| 49.2% Complete\r",
      "\r",
      "Zoom level: 5 |████████████████████████--------------------------| 49.6% Complete\r",
      "\r",
      "Zoom level: 5 |█████████████████████████-------------------------| 50.0% Complete\r",
      "\r",
      "Zoom level: 5 |█████████████████████████-------------------------| 50.4% Complete\r",
      "\r",
      "Zoom level: 5 |█████████████████████████-------------------------| 50.8% Complete\r",
      "\r",
      "Zoom level: 5 |█████████████████████████-------------------------| 51.2% Complete\r",
      "\r",
      "Zoom level: 5 |█████████████████████████-------------------------| 51.6% Complete\r",
      "\r",
      "Zoom level: 5 |█████████████████████████-------------------------| 52.0% Complete\r",
      "\r",
      "Zoom level: 5 |██████████████████████████------------------------| 52.3% Complete\r",
      "\r",
      "Zoom level: 5 |██████████████████████████------------------------| 52.7% Complete\r",
      "\r",
      "Zoom level: 5 |██████████████████████████------------------------| 53.1% Complete\r",
      "\r",
      "Zoom level: 5 |██████████████████████████------------------------| 53.5% Complete\r",
      "\r",
      "Zoom level: 5 |██████████████████████████------------------------| 53.9% Complete\r",
      "\r",
      "Zoom level: 5 |███████████████████████████-----------------------| 54.3% Complete\r",
      "\r",
      "Zoom level: 5 |███████████████████████████-----------------------| 54.7% Complete\r",
      "\r",
      "Zoom level: 5 |███████████████████████████-----------------------| 55.1% Complete\r",
      "\r",
      "Zoom level: 5 |███████████████████████████-----------------------| 55.5% Complete\r",
      "\r",
      "Zoom level: 5 |███████████████████████████-----------------------| 55.9% Complete\r",
      "\r",
      "Zoom level: 5 |████████████████████████████----------------------| 56.2% Complete\r",
      "\r",
      "Zoom level: 5 |████████████████████████████----------------------| 56.6% Complete\r",
      "\r",
      "Zoom level: 5 |████████████████████████████----------------------| 57.0% Complete\r",
      "\r",
      "Zoom level: 5 |████████████████████████████----------------------| 57.4% Complete\r",
      "\r",
      "Zoom level: 5 |████████████████████████████----------------------| 57.8% Complete\r",
      "\r",
      "Zoom level: 5 |█████████████████████████████---------------------| 58.2% Complete\r",
      "\r",
      "Zoom level: 5 |█████████████████████████████---------------------| 58.6% Complete\r",
      "\r",
      "Zoom level: 5 |█████████████████████████████---------------------| 59.0% Complete\r",
      "\r",
      "Zoom level: 5 |█████████████████████████████---------------------| 59.4% Complete\r",
      "\r",
      "Zoom level: 5 |█████████████████████████████---------------------| 59.8% Complete\r",
      "\r",
      "Zoom level: 5 |██████████████████████████████--------------------| 60.2% Complete\r",
      "\r",
      "Zoom level: 5 |██████████████████████████████--------------------| 60.5% Complete\r",
      "\r",
      "Zoom level: 5 |██████████████████████████████--------------------| 60.9% Complete\r",
      "\r",
      "Zoom level: 5 |██████████████████████████████--------------------| 61.3% Complete\r",
      "\r",
      "Zoom level: 5 |██████████████████████████████--------------------| 61.7% Complete\r",
      "\r",
      "Zoom level: 5 |███████████████████████████████-------------------| 62.1% Complete\r",
      "\r",
      "Zoom level: 5 |███████████████████████████████-------------------| 62.5% Complete\r",
      "\r",
      "Zoom level: 5 |███████████████████████████████-------------------| 62.9% Complete\r",
      "\r",
      "Zoom level: 5 |███████████████████████████████-------------------| 63.3% Complete\r",
      "\r",
      "Zoom level: 5 |███████████████████████████████-------------------| 63.7% Complete\r",
      "\r",
      "Zoom level: 5 |████████████████████████████████------------------| 64.1% Complete\r",
      "\r",
      "Zoom level: 5 |████████████████████████████████------------------| 64.5% Complete\r",
      "\r",
      "Zoom level: 5 |████████████████████████████████------------------| 64.8% Complete\r",
      "\r",
      "Zoom level: 5 |████████████████████████████████------------------| 65.2% Complete\r"
     ]
    },
    {
     "name": "stderr",
     "output_type": "stream",
     "text": [
      "2018-06-28 12:01:23 Hail: INFO: Ordering unsorted dataset with network shuffle\n"
     ]
    },
    {
     "name": "stdout",
     "output_type": "stream",
     "text": [
      "Zoom level: 5 |█████████████████████████████████-----------------| 67.6% Complete\r"
     ]
    },
    {
     "name": "stderr",
     "output_type": "stream",
     "text": [
      "2018-06-28 12:07:37 Hail: INFO: Coerced sorted dataset\n"
     ]
    },
    {
     "name": "stdout",
     "output_type": "stream",
     "text": [
      "\r",
      "Zoom level: 5 |█████████████████████████████████-----------------| 68.0% Complete\r"
     ]
    },
    {
     "name": "stderr",
     "output_type": "stream",
     "text": [
      "2018-06-28 12:08:24 Hail: INFO: Ordering unsorted dataset with network shuffle\n"
     ]
    },
    {
     "name": "stdout",
     "output_type": "stream",
     "text": [
      "\r",
      "Zoom level: 5 |██████████████████████████████████----------------| 68.4% Complete\r"
     ]
    },
    {
     "name": "stderr",
     "output_type": "stream",
     "text": [
      "2018-06-28 12:09:59 Hail: INFO: Ordering unsorted dataset with network shuffle\n"
     ]
    },
    {
     "name": "stdout",
     "output_type": "stream",
     "text": [
      "Zoom level: 5 |███████████████████████████████████---------------| 70.3% Complete\r"
     ]
    },
    {
     "name": "stderr",
     "output_type": "stream",
     "text": [
      "2018-06-28 12:15:31 Hail: INFO: Ordering unsorted dataset with network shuffle\n"
     ]
    },
    {
     "name": "stdout",
     "output_type": "stream",
     "text": [
      "\r",
      "Zoom level: 5 |███████████████████████████████████---------------| 70.7% Complete\r"
     ]
    },
    {
     "name": "stderr",
     "output_type": "stream",
     "text": [
      "2018-06-28 12:17:13 Hail: INFO: Ordering unsorted dataset with network shuffle\n"
     ]
    },
    {
     "name": "stdout",
     "output_type": "stream",
     "text": [
      "\r",
      "Zoom level: 5 |███████████████████████████████████---------------| 71.1% Complete\r"
     ]
    },
    {
     "name": "stderr",
     "output_type": "stream",
     "text": [
      "2018-06-28 12:18:48 Hail: INFO: Ordering unsorted dataset with network shuffle\n"
     ]
    },
    {
     "name": "stdout",
     "output_type": "stream",
     "text": [
      "\r",
      "Zoom level: 5 |███████████████████████████████████---------------| 71.5% Complete\r"
     ]
    },
    {
     "name": "stderr",
     "output_type": "stream",
     "text": [
      "2018-06-28 12:20:22 Hail: INFO: Ordering unsorted dataset with network shuffle\n"
     ]
    },
    {
     "name": "stdout",
     "output_type": "stream",
     "text": [
      "Zoom level: 5 |████████████████████████████████████--------------| 73.8% Complete\r"
     ]
    },
    {
     "name": "stderr",
     "output_type": "stream",
     "text": [
      "2018-06-28 12:26:34 Hail: INFO: Ordering unsorted dataset with network shuffle\n"
     ]
    },
    {
     "name": "stdout",
     "output_type": "stream",
     "text": [
      "\r",
      "Zoom level: 5 |█████████████████████████████████████-------------| 74.2% Complete\r"
     ]
    },
    {
     "name": "stderr",
     "output_type": "stream",
     "text": [
      "2018-06-28 12:28:19 Hail: INFO: Ordering unsorted dataset with network shuffle\n"
     ]
    },
    {
     "name": "stdout",
     "output_type": "stream",
     "text": [
      "\r",
      "Zoom level: 5 |█████████████████████████████████████-------------| 74.6% Complete\r"
     ]
    },
    {
     "name": "stderr",
     "output_type": "stream",
     "text": [
      "2018-06-28 12:29:52 Hail: INFO: Ordering unsorted dataset with network shuffle\n"
     ]
    },
    {
     "name": "stdout",
     "output_type": "stream",
     "text": [
      "Zoom level: 5 |██████████████████████████████████████------------| 77.7% Complete\r"
     ]
    },
    {
     "name": "stderr",
     "output_type": "stream",
     "text": [
      "2018-06-28 12:37:06 Hail: INFO: Ordering unsorted dataset with network shuffle\n"
     ]
    },
    {
     "name": "stdout",
     "output_type": "stream",
     "text": [
      "Zoom level: 5 |████████████████████████████████████████----------| 80.1% Complete\r"
     ]
    },
    {
     "name": "stderr",
     "output_type": "stream",
     "text": [
      "2018-06-28 12:42:48 Hail: INFO: Coerced sorted dataset\n"
     ]
    },
    {
     "name": "stdout",
     "output_type": "stream",
     "text": [
      "\r",
      "Zoom level: 5 |████████████████████████████████████████----------| 80.5% Complete\r"
     ]
    },
    {
     "name": "stderr",
     "output_type": "stream",
     "text": [
      "2018-06-28 12:43:38 Hail: INFO: Ordering unsorted dataset with network shuffle\n"
     ]
    },
    {
     "name": "stdout",
     "output_type": "stream",
     "text": [
      "\r",
      "Zoom level: 5 |████████████████████████████████████████----------| 80.9% Complete\r"
     ]
    },
    {
     "name": "stderr",
     "output_type": "stream",
     "text": [
      "2018-06-28 12:45:09 Hail: INFO: Ordering unsorted dataset with network shuffle\n"
     ]
    },
    {
     "name": "stdout",
     "output_type": "stream",
     "text": [
      "Zoom level: 5 |█████████████████████████████████████████---------| 82.8% Complete\r"
     ]
    },
    {
     "name": "stderr",
     "output_type": "stream",
     "text": [
      "2018-06-28 12:50:51 Hail: INFO: Coerced sorted dataset\n"
     ]
    },
    {
     "name": "stdout",
     "output_type": "stream",
     "text": [
      "\r",
      "Zoom level: 5 |█████████████████████████████████████████---------| 83.2% Complete\r"
     ]
    },
    {
     "name": "stderr",
     "output_type": "stream",
     "text": [
      "2018-06-28 12:52:00 Hail: INFO: Ordering unsorted dataset with network shuffle\n"
     ]
    },
    {
     "name": "stdout",
     "output_type": "stream",
     "text": [
      "\r",
      "Zoom level: 5 |█████████████████████████████████████████---------| 83.6% Complete\r"
     ]
    },
    {
     "name": "stderr",
     "output_type": "stream",
     "text": [
      "2018-06-28 12:54:07 Hail: INFO: Ordering unsorted dataset with network shuffle\n"
     ]
    },
    {
     "name": "stdout",
     "output_type": "stream",
     "text": [
      "\r",
      "Zoom level: 5 |█████████████████████████████████████████---------| 84.0% Complete\r"
     ]
    },
    {
     "name": "stderr",
     "output_type": "stream",
     "text": [
      "2018-06-28 12:56:14 Hail: INFO: Ordering unsorted dataset with network shuffle\n"
     ]
    },
    {
     "name": "stdout",
     "output_type": "stream",
     "text": [
      "Zoom level: 5 |███████████████████████████████████████████-------| 86.7% Complete\r"
     ]
    },
    {
     "name": "stderr",
     "output_type": "stream",
     "text": [
      "2018-06-28 13:04:08 Hail: INFO: Ordering unsorted dataset with network shuffle\n"
     ]
    },
    {
     "name": "stdout",
     "output_type": "stream",
     "text": [
      "\r",
      "Zoom level: 5 |███████████████████████████████████████████-------| 87.1% Complete\r"
     ]
    },
    {
     "name": "stderr",
     "output_type": "stream",
     "text": [
      "2018-06-28 13:07:17 Hail: INFO: Ordering unsorted dataset with network shuffle\n"
     ]
    },
    {
     "name": "stdout",
     "output_type": "stream",
     "text": [
      "Zoom level: 5 |████████████████████████████████████████████------| 89.1% Complete\r"
     ]
    },
    {
     "name": "stderr",
     "output_type": "stream",
     "text": [
      "2018-06-28 13:13:00 Hail: INFO: Ordering unsorted dataset with network shuffle\n"
     ]
    },
    {
     "name": "stdout",
     "output_type": "stream",
     "text": [
      "\r",
      "Zoom level: 5 |████████████████████████████████████████████------| 89.5% Complete\r"
     ]
    },
    {
     "name": "stderr",
     "output_type": "stream",
     "text": [
      "2018-06-28 13:14:35 Hail: INFO: Ordering unsorted dataset with network shuffle\n"
     ]
    },
    {
     "name": "stdout",
     "output_type": "stream",
     "text": [
      "\r",
      "Zoom level: 5 |████████████████████████████████████████████------| 89.8% Complete\r"
     ]
    },
    {
     "name": "stderr",
     "output_type": "stream",
     "text": [
      "2018-06-28 13:16:07 Hail: INFO: Ordering unsorted dataset with network shuffle\n"
     ]
    },
    {
     "name": "stdout",
     "output_type": "stream",
     "text": [
      "\r",
      "Zoom level: 5 |█████████████████████████████████████████████-----| 90.2% Complete\r"
     ]
    },
    {
     "name": "stderr",
     "output_type": "stream",
     "text": [
      "2018-06-28 13:17:47 Hail: INFO: Ordering unsorted dataset with network shuffle\n"
     ]
    },
    {
     "name": "stdout",
     "output_type": "stream",
     "text": [
      "Zoom level: 5 |██████████████████████████████████████████████----| 92.2% Complete\r"
     ]
    },
    {
     "name": "stderr",
     "output_type": "stream",
     "text": [
      "2018-06-28 13:23:13 Hail: INFO: Coerced sorted dataset\n"
     ]
    },
    {
     "name": "stdout",
     "output_type": "stream",
     "text": [
      "\r",
      "Zoom level: 5 |██████████████████████████████████████████████----| 92.6% Complete\r"
     ]
    },
    {
     "name": "stderr",
     "output_type": "stream",
     "text": [
      "2018-06-28 13:24:04 Hail: INFO: Ordering unsorted dataset with network shuffle\n"
     ]
    },
    {
     "name": "stdout",
     "output_type": "stream",
     "text": [
      "\r",
      "Zoom level: 5 |██████████████████████████████████████████████----| 93.0% Complete\r"
     ]
    },
    {
     "name": "stderr",
     "output_type": "stream",
     "text": [
      "2018-06-28 13:25:33 Hail: INFO: Ordering unsorted dataset with network shuffle\n"
     ]
    },
    {
     "name": "stdout",
     "output_type": "stream",
     "text": [
      "\r",
      "Zoom level: 5 |██████████████████████████████████████████████----| 93.4% Complete\r"
     ]
    },
    {
     "name": "stderr",
     "output_type": "stream",
     "text": [
      "2018-06-28 13:27:04 Hail: INFO: Ordering unsorted dataset with network shuffle\n"
     ]
    },
    {
     "name": "stdout",
     "output_type": "stream",
     "text": [
      "\r",
      "Zoom level: 5 |██████████████████████████████████████████████----| 93.8% Complete\r"
     ]
    },
    {
     "name": "stderr",
     "output_type": "stream",
     "text": [
      "2018-06-28 13:29:18 Hail: INFO: Coerced sorted dataset\n"
     ]
    },
    {
     "name": "stdout",
     "output_type": "stream",
     "text": [
      "\r",
      "Zoom level: 5 |███████████████████████████████████████████████---| 94.1% Complete\r"
     ]
    },
    {
     "name": "stderr",
     "output_type": "stream",
     "text": [
      "2018-06-28 13:30:09 Hail: INFO: Ordering unsorted dataset with network shuffle\n"
     ]
    },
    {
     "name": "stdout",
     "output_type": "stream",
     "text": [
      "\r",
      "Zoom level: 5 |███████████████████████████████████████████████---| 94.5% Complete\r"
     ]
    },
    {
     "name": "stderr",
     "output_type": "stream",
     "text": [
      "2018-06-28 13:31:45 Hail: INFO: Ordering unsorted dataset with network shuffle\n"
     ]
    },
    {
     "name": "stdout",
     "output_type": "stream",
     "text": [
      "\r",
      "Zoom level: 5 |███████████████████████████████████████████████---| 94.9% Complete\r"
     ]
    },
    {
     "name": "stderr",
     "output_type": "stream",
     "text": [
      "2018-06-28 13:33:18 Hail: INFO: Ordering unsorted dataset with network shuffle\n"
     ]
    },
    {
     "name": "stdout",
     "output_type": "stream",
     "text": [
      "\r",
      "Zoom level: 5 |███████████████████████████████████████████████---| 95.3% Complete\r"
     ]
    },
    {
     "name": "stderr",
     "output_type": "stream",
     "text": [
      "2018-06-28 13:34:48 Hail: INFO: Ordering unsorted dataset with network shuffle\n"
     ]
    },
    {
     "name": "stdout",
     "output_type": "stream",
     "text": [
      "\r",
      "Zoom level: 5 |███████████████████████████████████████████████---| 95.7% Complete\r"
     ]
    },
    {
     "name": "stderr",
     "output_type": "stream",
     "text": [
      "2018-06-28 13:36:21 Hail: INFO: Ordering unsorted dataset with network shuffle\n"
     ]
    },
    {
     "name": "stdout",
     "output_type": "stream",
     "text": [
      "\r",
      "Zoom level: 5 |████████████████████████████████████████████████--| 96.1% Complete\r"
     ]
    },
    {
     "name": "stderr",
     "output_type": "stream",
     "text": [
      "2018-06-28 13:37:58 Hail: INFO: Ordering unsorted dataset with network shuffle\n"
     ]
    },
    {
     "name": "stdout",
     "output_type": "stream",
     "text": [
      "\r",
      "Zoom level: 5 |████████████████████████████████████████████████--| 96.5% Complete\r"
     ]
    },
    {
     "name": "stderr",
     "output_type": "stream",
     "text": [
      "2018-06-28 13:39:31 Hail: INFO: Ordering unsorted dataset with network shuffle\n"
     ]
    },
    {
     "name": "stdout",
     "output_type": "stream",
     "text": [
      "Zoom level: 5 |█████████████████████████████████████████████████-| 99.6% Complete\r"
     ]
    },
    {
     "name": "stderr",
     "output_type": "stream",
     "text": [
      "2018-06-28 13:47:01 Hail: INFO: Ordering unsorted dataset with network shuffle\n"
     ]
    },
    {
     "name": "stdout",
     "output_type": "stream",
     "text": [
      "\r",
      "Zoom level: 5 |██████████████████████████████████████████████████| 100.0% Complete\r\n"
     ]
    }
   ],
   "source": [
    "standingHeightGen.generate(5)"
   ]
  },
  {
   "cell_type": "code",
   "execution_count": null,
   "metadata": {},
   "outputs": [
    {
     "name": "stdout",
     "output_type": "stream",
     "text": [
      "Zoom level: 6 |--------------------------------------------------| 1.2% Complete\r"
     ]
    },
    {
     "name": "stderr",
     "output_type": "stream",
     "text": [
      "2018-06-28 15:09:22 Hail: INFO: Ordering unsorted dataset with network shuffle\n"
     ]
    },
    {
     "name": "stdout",
     "output_type": "stream",
     "text": [
      "\r",
      "Zoom level: 6 |--------------------------------------------------| 1.3% Complete\r"
     ]
    },
    {
     "name": "stderr",
     "output_type": "stream",
     "text": [
      "2018-06-28 15:10:50 Hail: INFO: Ordering unsorted dataset with network shuffle\n"
     ]
    },
    {
     "name": "stdout",
     "output_type": "stream",
     "text": [
      "\r",
      "Zoom level: 6 |--------------------------------------------------| 1.4% Complete\r"
     ]
    },
    {
     "name": "stderr",
     "output_type": "stream",
     "text": [
      "2018-06-28 15:12:19 Hail: INFO: Ordering unsorted dataset with network shuffle\n"
     ]
    },
    {
     "name": "stdout",
     "output_type": "stream",
     "text": [
      "\r",
      "Zoom level: 6 |--------------------------------------------------| 1.5% Complete\r"
     ]
    },
    {
     "name": "stderr",
     "output_type": "stream",
     "text": [
      "2018-06-28 15:13:49 Hail: INFO: Ordering unsorted dataset with network shuffle\n"
     ]
    },
    {
     "name": "stdout",
     "output_type": "stream",
     "text": [
      "Zoom level: 6 |█-------------------------------------------------| 2.8% Complete\r"
     ]
    },
    {
     "name": "stderr",
     "output_type": "stream",
     "text": [
      "2018-06-28 15:25:43 Hail: INFO: Coerced sorted dataset\n"
     ]
    },
    {
     "name": "stdout",
     "output_type": "stream",
     "text": [
      "\r",
      "Zoom level: 6 |█-------------------------------------------------| 2.9% Complete\r"
     ]
    },
    {
     "name": "stderr",
     "output_type": "stream",
     "text": [
      "2018-06-28 15:26:30 Hail: INFO: Ordering unsorted dataset with network shuffle\n"
     ]
    },
    {
     "name": "stdout",
     "output_type": "stream",
     "text": [
      "\r",
      "Zoom level: 6 |█-------------------------------------------------| 3.0% Complete\r"
     ]
    },
    {
     "name": "stderr",
     "output_type": "stream",
     "text": [
      "2018-06-28 15:28:00 Hail: INFO: Ordering unsorted dataset with network shuffle\n"
     ]
    },
    {
     "name": "stdout",
     "output_type": "stream",
     "text": [
      "Zoom level: 6 |██------------------------------------------------| 4.3% Complete\r"
     ]
    },
    {
     "name": "stderr",
     "output_type": "stream",
     "text": [
      "2018-06-28 15:38:47 Hail: INFO: Ordering unsorted dataset with network shuffle\n"
     ]
    },
    {
     "name": "stdout",
     "output_type": "stream",
     "text": [
      "\r",
      "Zoom level: 6 |██------------------------------------------------| 4.4% Complete\r"
     ]
    },
    {
     "name": "stderr",
     "output_type": "stream",
     "text": [
      "2018-06-28 15:40:17 Hail: INFO: Ordering unsorted dataset with network shuffle\n"
     ]
    },
    {
     "name": "stdout",
     "output_type": "stream",
     "text": [
      "\r",
      "Zoom level: 6 |██------------------------------------------------| 4.5% Complete\r"
     ]
    },
    {
     "name": "stderr",
     "output_type": "stream",
     "text": [
      "2018-06-28 15:41:45 Hail: INFO: Ordering unsorted dataset with network shuffle\n"
     ]
    },
    {
     "name": "stdout",
     "output_type": "stream",
     "text": [
      "\r",
      "Zoom level: 6 |██------------------------------------------------| 4.6% Complete\r"
     ]
    },
    {
     "name": "stderr",
     "output_type": "stream",
     "text": [
      "2018-06-28 15:43:17 Hail: INFO: Ordering unsorted dataset with network shuffle\n"
     ]
    },
    {
     "name": "stdout",
     "output_type": "stream",
     "text": [
      "Zoom level: 6 |██------------------------------------------------| 5.7% Complete\r"
     ]
    },
    {
     "name": "stderr",
     "output_type": "stream",
     "text": [
      "2018-06-28 15:52:29 Hail: INFO: Ordering unsorted dataset with network shuffle\n"
     ]
    },
    {
     "name": "stdout",
     "output_type": "stream",
     "text": [
      "\r",
      "Zoom level: 6 |██------------------------------------------------| 5.8% Complete\r"
     ]
    },
    {
     "name": "stderr",
     "output_type": "stream",
     "text": [
      "2018-06-28 15:54:01 Hail: INFO: Coerced sorted dataset\n"
     ]
    },
    {
     "name": "stdout",
     "output_type": "stream",
     "text": [
      "\r",
      "Zoom level: 6 |██------------------------------------------------| 5.9% Complete\r"
     ]
    },
    {
     "name": "stderr",
     "output_type": "stream",
     "text": [
      "2018-06-28 15:54:54 Hail: INFO: Ordering unsorted dataset with network shuffle\n"
     ]
    },
    {
     "name": "stdout",
     "output_type": "stream",
     "text": [
      "\r",
      "Zoom level: 6 |██------------------------------------------------| 6.0% Complete\r"
     ]
    },
    {
     "name": "stderr",
     "output_type": "stream",
     "text": [
      "2018-06-28 15:56:23 Hail: INFO: Ordering unsorted dataset with network shuffle\n"
     ]
    },
    {
     "name": "stdout",
     "output_type": "stream",
     "text": [
      "\r",
      "Zoom level: 6 |███-----------------------------------------------| 6.1% Complete\r"
     ]
    },
    {
     "name": "stderr",
     "output_type": "stream",
     "text": [
      "2018-06-28 15:57:56 Hail: INFO: Ordering unsorted dataset with network shuffle\n"
     ]
    },
    {
     "name": "stdout",
     "output_type": "stream",
     "text": [
      "\r",
      "Zoom level: 6 |███-----------------------------------------------| 6.2% Complete\r"
     ]
    },
    {
     "name": "stderr",
     "output_type": "stream",
     "text": [
      "2018-06-28 15:59:37 Hail: INFO: Ordering unsorted dataset with network shuffle\n"
     ]
    },
    {
     "name": "stdout",
     "output_type": "stream",
     "text": [
      "Zoom level: 6 |███-----------------------------------------------| 7.3% Complete\r"
     ]
    },
    {
     "name": "stderr",
     "output_type": "stream",
     "text": [
      "2018-06-28 16:10:40 Hail: INFO: Ordering unsorted dataset with network shuffle\n"
     ]
    },
    {
     "name": "stdout",
     "output_type": "stream",
     "text": [
      "\r",
      "Zoom level: 6 |███-----------------------------------------------| 7.4% Complete\r"
     ]
    },
    {
     "name": "stderr",
     "output_type": "stream",
     "text": [
      "2018-06-28 16:12:10 Hail: INFO: Ordering unsorted dataset with network shuffle\n"
     ]
    },
    {
     "name": "stdout",
     "output_type": "stream",
     "text": [
      "\r",
      "Zoom level: 6 |███-----------------------------------------------| 7.5% Complete\r"
     ]
    },
    {
     "name": "stderr",
     "output_type": "stream",
     "text": [
      "2018-06-28 16:13:42 Hail: INFO: Ordering unsorted dataset with network shuffle\n"
     ]
    },
    {
     "name": "stdout",
     "output_type": "stream",
     "text": [
      "\r",
      "Zoom level: 6 |███-----------------------------------------------| 7.6% Complete\r"
     ]
    },
    {
     "name": "stderr",
     "output_type": "stream",
     "text": [
      "2018-06-28 16:15:17 Hail: INFO: Ordering unsorted dataset with network shuffle\n"
     ]
    },
    {
     "name": "stdout",
     "output_type": "stream",
     "text": [
      "\r",
      "Zoom level: 6 |███-----------------------------------------------| 7.7% Complete\r"
     ]
    },
    {
     "name": "stderr",
     "output_type": "stream",
     "text": [
      "2018-06-28 16:16:56 Hail: INFO: Ordering unsorted dataset with network shuffle\n"
     ]
    },
    {
     "name": "stdout",
     "output_type": "stream",
     "text": [
      "Zoom level: 6 |████----------------------------------------------| 9.1% Complete\r"
     ]
    },
    {
     "name": "stderr",
     "output_type": "stream",
     "text": [
      "2018-06-28 16:29:21 Hail: INFO: Ordering unsorted dataset with network shuffle\n"
     ]
    },
    {
     "name": "stdout",
     "output_type": "stream",
     "text": [
      "\r",
      "Zoom level: 6 |████----------------------------------------------| 9.2% Complete\r"
     ]
    },
    {
     "name": "stderr",
     "output_type": "stream",
     "text": [
      "2018-06-28 16:30:57 Hail: INFO: Ordering unsorted dataset with network shuffle\n"
     ]
    },
    {
     "name": "stdout",
     "output_type": "stream",
     "text": [
      "\r",
      "Zoom level: 6 |████----------------------------------------------| 9.3% Complete\r"
     ]
    },
    {
     "name": "stderr",
     "output_type": "stream",
     "text": [
      "2018-06-28 16:32:55 Hail: INFO: Ordering unsorted dataset with network shuffle\n"
     ]
    },
    {
     "name": "stdout",
     "output_type": "stream",
     "text": [
      "Zoom level: 6 |█████---------------------------------------------| 10.2% Complete\r"
     ]
    },
    {
     "name": "stderr",
     "output_type": "stream",
     "text": [
      "2018-06-28 16:41:47 Hail: INFO: Coerced sorted dataset\n"
     ]
    },
    {
     "name": "stdout",
     "output_type": "stream",
     "text": [
      "\r",
      "Zoom level: 6 |█████---------------------------------------------| 10.3% Complete\r"
     ]
    },
    {
     "name": "stderr",
     "output_type": "stream",
     "text": [
      "2018-06-28 16:42:45 Hail: INFO: Ordering unsorted dataset with network shuffle\n"
     ]
    },
    {
     "name": "stdout",
     "output_type": "stream",
     "text": [
      "\r",
      "Zoom level: 6 |█████---------------------------------------------| 10.4% Complete\r"
     ]
    },
    {
     "name": "stderr",
     "output_type": "stream",
     "text": [
      "2018-06-28 16:44:24 Hail: INFO: Ordering unsorted dataset with network shuffle\n"
     ]
    },
    {
     "name": "stdout",
     "output_type": "stream",
     "text": [
      "\r",
      "Zoom level: 6 |█████---------------------------------------------| 10.4% Complete\r"
     ]
    },
    {
     "name": "stderr",
     "output_type": "stream",
     "text": [
      "2018-06-28 16:46:12 Hail: INFO: Ordering unsorted dataset with network shuffle\n"
     ]
    },
    {
     "name": "stdout",
     "output_type": "stream",
     "text": [
      "\r",
      "Zoom level: 6 |█████---------------------------------------------| 10.5% Complete\r"
     ]
    },
    {
     "name": "stderr",
     "output_type": "stream",
     "text": [
      "2018-06-28 16:47:54 Hail: INFO: Ordering unsorted dataset with network shuffle\n"
     ]
    },
    {
     "name": "stdout",
     "output_type": "stream",
     "text": [
      "\r",
      "Zoom level: 6 |█████---------------------------------------------| 10.6% Complete\r"
     ]
    },
    {
     "name": "stderr",
     "output_type": "stream",
     "text": [
      "2018-06-28 16:49:30 Hail: INFO: Ordering unsorted dataset with network shuffle\n"
     ]
    },
    {
     "name": "stdout",
     "output_type": "stream",
     "text": [
      "\r",
      "Zoom level: 6 |█████---------------------------------------------| 10.7% Complete\r"
     ]
    },
    {
     "name": "stderr",
     "output_type": "stream",
     "text": [
      "2018-06-28 16:51:08 Hail: INFO: Ordering unsorted dataset with network shuffle\n"
     ]
    },
    {
     "name": "stdout",
     "output_type": "stream",
     "text": [
      "\r",
      "Zoom level: 6 |█████---------------------------------------------| 10.8% Complete\r"
     ]
    },
    {
     "name": "stderr",
     "output_type": "stream",
     "text": [
      "2018-06-28 16:52:52 Hail: INFO: Ordering unsorted dataset with network shuffle\n"
     ]
    },
    {
     "name": "stdout",
     "output_type": "stream",
     "text": [
      "Zoom level: 6 |██████--------------------------------------------| 12.2% Complete\r"
     ]
    },
    {
     "name": "stderr",
     "output_type": "stream",
     "text": [
      "2018-06-28 17:05:21 Hail: INFO: Ordering unsorted dataset with network shuffle\n"
     ]
    },
    {
     "name": "stdout",
     "output_type": "stream",
     "text": [
      "\r",
      "Zoom level: 6 |██████--------------------------------------------| 12.3% Complete\r"
     ]
    },
    {
     "name": "stderr",
     "output_type": "stream",
     "text": [
      "2018-06-28 17:06:54 Hail: INFO: Ordering unsorted dataset with network shuffle\n"
     ]
    },
    {
     "name": "stdout",
     "output_type": "stream",
     "text": [
      "\r",
      "Zoom level: 6 |██████--------------------------------------------| 12.4% Complete\r"
     ]
    },
    {
     "name": "stderr",
     "output_type": "stream",
     "text": [
      "2018-06-28 17:08:31 Hail: INFO: Ordering unsorted dataset with network shuffle\n"
     ]
    },
    {
     "name": "stdout",
     "output_type": "stream",
     "text": [
      "Zoom level: 6 |██████--------------------------------------------| 13.9% Complete\r"
     ]
    },
    {
     "name": "stderr",
     "output_type": "stream",
     "text": [
      "2018-06-28 17:22:21 Hail: INFO: Ordering unsorted dataset with network shuffle\n"
     ]
    },
    {
     "name": "stdout",
     "output_type": "stream",
     "text": [
      "\r",
      "Zoom level: 6 |██████--------------------------------------------| 14.0% Complete\r"
     ]
    },
    {
     "name": "stderr",
     "output_type": "stream",
     "text": [
      "2018-06-28 17:24:05 Hail: INFO: Ordering unsorted dataset with network shuffle\n"
     ]
    },
    {
     "name": "stdout",
     "output_type": "stream",
     "text": [
      "Zoom level: 6 |███████-------------------------------------------| 15.3% Complete\r"
     ]
    }
   ],
   "source": [
    "standingHeightGen.generate(6)"
   ]
  },
  {
   "cell_type": "code",
   "execution_count": null,
   "metadata": {
    "collapsed": true
   },
   "outputs": [],
   "source": [
    "## to do : don't waste time generating empty subtiles"
   ]
  },
  {
   "cell_type": "code",
   "execution_count": null,
   "metadata": {
    "collapsed": true
   },
   "outputs": [],
   "source": []
  }
 ],
 "metadata": {
  "kernelspec": {
   "display_name": "Python 3",
   "language": "python",
   "name": "python3"
  },
  "language_info": {
   "codemirror_mode": {
    "name": "ipython",
    "version": 3
   },
   "file_extension": ".py",
   "mimetype": "text/x-python",
   "name": "python",
   "nbconvert_exporter": "python",
   "pygments_lexer": "ipython3",
   "version": "3.6.3"
  }
 },
 "nbformat": 4,
 "nbformat_minor": 2
}
