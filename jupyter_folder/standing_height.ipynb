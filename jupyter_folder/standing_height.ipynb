{
 "cells": [
  {
   "cell_type": "code",
   "execution_count": 1,
   "metadata": {
    "collapsed": true
   },
   "outputs": [],
   "source": [
    "import hail as hl\n",
    "import hail.expr.aggregators as agg"
   ]
  },
  {
   "cell_type": "code",
   "execution_count": 2,
   "metadata": {
    "collapsed": true
   },
   "outputs": [],
   "source": [
    "hl.init(quiet=True)"
   ]
  },
  {
   "cell_type": "code",
   "execution_count": 3,
   "metadata": {
    "collapsed": true
   },
   "outputs": [],
   "source": [
    "schema = {'variant': hl.tstr, 'rsid': hl.tstr, 'nCompleteSamples': hl.tint32,\n",
    "         'AC': hl.tfloat64, 'ytx': hl.tfloat64, 'beta': hl.tfloat64,\n",
    "         'se': hl.tfloat64, 'tstat': hl.tfloat64, 'pval': hl.tfloat64}\n",
    "\n",
    "standing_height_mt_path = '/Users/maccum/manhattan/data/standing_height/'\n",
    "\n",
    "manhattan_table_path = '/Users/maccum/manhattan/data/standing_height2/'\n",
    "\n",
    "colors = {'1' : \"#F73A12\", '2' : \"#BFF712\", '3' : \"#F7B912\", '4' : \"#F78112\", \n",
    "                '5' : \"#1DA14F\", '6' : \"#651DA1\", '7' : \"#26DAE3\", '8' : \"#768CCC\", \n",
    "                '9' : \"#CF19EC\", '10' : \"#A11D7F\", '11' : \"#EC195C\", '12' : \"#19EC43\", \n",
    "                '13' : \"#30666F\", '14' : \"#F7CA48\", '15' : \"#48F770\", '16' : \"#7A48F7\", \n",
    "                '17' : \"#F74863\", '18' : \"#322C2D\", '19' : \"#B9C147\", '20' : \"#B7B0B1\", \n",
    "                '21' : \"#64C1B9\", '22' : \"#349C21\", 'X' : \"#2D396E\"}"
   ]
  },
  {
   "cell_type": "code",
   "execution_count": null,
   "metadata": {
    "collapsed": true
   },
   "outputs": [],
   "source": [
    "standing_height = hl.import_table('/Users/maccum/manhattan/50.assoc.tsv', key='variant', types=schema)"
   ]
  },
  {
   "cell_type": "code",
   "execution_count": 5,
   "metadata": {
    "collapsed": true
   },
   "outputs": [],
   "source": [
    "standing_height = standing_height.rename({\"variant\": \"contig:pos:ref:alt1,alt2\"})"
   ]
  },
  {
   "cell_type": "code",
   "execution_count": 7,
   "metadata": {},
   "outputs": [
    {
     "name": "stderr",
     "output_type": "stream",
     "text": [
      "2018-06-27 15:05:27 Hail: INFO: wrote 10894596 items in 35 partitions\n"
     ]
    }
   ],
   "source": [
    "standing_height.write(standing_height_mt_path, overwrite=True)"
   ]
  },
  {
   "cell_type": "code",
   "execution_count": 13,
   "metadata": {
    "collapsed": true
   },
   "outputs": [],
   "source": [
    "standing_height = hl.read_table(standing_height_mt_path)"
   ]
  },
  {
   "cell_type": "code",
   "execution_count": 14,
   "metadata": {},
   "outputs": [
    {
     "name": "stdout",
     "output_type": "stream",
     "text": [
      "----------------------------------------\n",
      "Global fields:\n",
      "    None\n",
      "----------------------------------------\n",
      "Row fields:\n",
      "    'contig:pos:ref:alt1,alt2': str \n",
      "    'rsid': str \n",
      "    'nCompleteSamples': int32 \n",
      "    'AC': float64 \n",
      "    'ytx': float64 \n",
      "    'beta': float64 \n",
      "    'se': float64 \n",
      "    'tstat': float64 \n",
      "    'pval': float64 \n",
      "----------------------------------------\n",
      "Key: ['contig:pos:ref:alt1,alt2']\n",
      "----------------------------------------\n"
     ]
    }
   ],
   "source": [
    "standing_height.describe()"
   ]
  },
  {
   "cell_type": "code",
   "execution_count": 15,
   "metadata": {},
   "outputs": [
    {
     "data": {
      "text/plain": [
       "10894596"
      ]
     },
     "execution_count": 15,
     "metadata": {},
     "output_type": "execute_result"
    }
   ],
   "source": [
    "standing_height.count()"
   ]
  },
  {
   "cell_type": "code",
   "execution_count": 11,
   "metadata": {},
   "outputs": [
    {
     "name": "stderr",
     "output_type": "stream",
     "text": [
      "2018-06-27 15:09:28 Hail: INFO: Ordering unsorted dataset with network shuffle\n",
      "2018-06-27 15:12:17 Hail: INFO: wrote 10894596 items in 35 partitions\n"
     ]
    }
   ],
   "source": [
    "# get table with global_position, neg_log_pval, color\n",
    "sh = standing_height.annotate(v = hl.parse_variant(standing_height['contig:pos:ref:alt1,alt2']))\n",
    "sh = sh.annotate_globals(color_dict = colors)\n",
    "sh = sh.annotate(global_position = sh.v.locus.global_position(),\n",
    "                neg_log_pval = -hl.log(sh.pval),\n",
    "                color = sh.color_dict[sh.v.locus.contig])\n",
    "sh = sh.key_by('global_position').select('neg_log_pval', 'color')\n",
    "\n",
    "sh.write(manhattan_table_path, overwrite=True)"
   ]
  },
  {
   "cell_type": "code",
   "execution_count": null,
   "metadata": {
    "collapsed": true
   },
   "outputs": [],
   "source": [
    "sh = hl.read_table(manhattan_table_path)"
   ]
  },
  {
   "cell_type": "code",
   "execution_count": 12,
   "metadata": {},
   "outputs": [
    {
     "name": "stdout",
     "output_type": "stream",
     "text": [
      "----------------------------------------\n",
      "Global fields:\n",
      "    'color_dict': dict<str, str> \n",
      "----------------------------------------\n",
      "Row fields:\n",
      "    'global_position': int64 \n",
      "    'neg_log_pval': float64 \n",
      "    'color': str \n",
      "----------------------------------------\n",
      "Key: ['global_position']\n",
      "----------------------------------------\n"
     ]
    }
   ],
   "source": [
    "sh.describe()"
   ]
  },
  {
   "cell_type": "code",
   "execution_count": 13,
   "metadata": {},
   "outputs": [
    {
     "name": "stderr",
     "output_type": "stream",
     "text": [
      "2018-06-27 15:13:53 Hail: INFO: Ordering unsorted dataset with network shuffle\n",
      "2018-06-27 15:16:04 Hail: INFO: Ordering unsorted dataset with network shuffle\n"
     ]
    },
    {
     "data": {
      "text/plain": [
       "(2880965782, 670.1746941369828)"
      ]
     },
     "execution_count": 13,
     "metadata": {},
     "output_type": "execute_result"
    }
   ],
   "source": [
    "max_global_position = sh.aggregate(agg.max(sh.global_position))\n",
    "max_nlp = sh.aggregate(agg.max(sh.neg_log_pval))\n",
    "(max_global_position, max_nlp)"
   ]
  },
  {
   "cell_type": "code",
   "execution_count": 4,
   "metadata": {
    "collapsed": true
   },
   "outputs": [],
   "source": [
    "#import generator\n",
    "#from generator.generator import Generator\n",
    "import plotgen as pg\n",
    "#from plotgen.src.gen.gen import PlotGenerator\n",
    "#help(pg)"
   ]
  },
  {
   "cell_type": "code",
   "execution_count": 5,
   "metadata": {},
   "outputs": [
    {
     "name": "stdout",
     "output_type": "stream",
     "text": [
      "Zoom level: 7 |██████████████████████████████████████████████████| 100.0% Complete\n"
     ]
    }
   ],
   "source": [
    "#caffeineGen = Generator('../plots/caffeine_plots', '../data/caffeine.ht', regenerate=False)\n",
    "caffeineGen = pg.PlotGenerator(root_folder='/Users/maccum/manhattan/plots/new_caffeine_plots', \n",
    "                            regenerate=False,\n",
    "                            table_path='/Users/maccum/manhattan/data/caffeine.ht')\n",
    "caffeineGen.generate(2, new_log_file=True)\n",
    "caffeineGen.generate(3)\n",
    "caffeineGen.generate(4)\n",
    "caffeineGen.generate(5)\n",
    "caffeineGen.generate(6)\n",
    "caffeineGen.generate(7)"
   ]
  },
  {
   "cell_type": "code",
   "execution_count": 5,
   "metadata": {
    "collapsed": true
   },
   "outputs": [],
   "source": [
    "#standingHeightGen = Generator('../plots/sh_plots', sh2_path, regenerate=False, \n",
    "#                              max_position=2880965782, max_nlp=670.1746941369828)\n",
    "standingHeightGen = pg.PlotGenerator(root_folder='../plots/new_standing_height_plots', \n",
    "                                  regenerate=False, \n",
    "                                  table_path=manhattan_table_path,\n",
    "                                  x_axis_range=[-5,2880965782+5], \n",
    "                                  y_axis_range=[0,670.1746941369828+1])"
   ]
  },
  {
   "cell_type": "code",
   "execution_count": 8,
   "metadata": {},
   "outputs": [
    {
     "name": "stdout",
     "output_type": "stream",
     "text": [
      "Zoom level: 2 |██████████████████████████████████████████████████| 100.0% Complete\n"
     ]
    }
   ],
   "source": [
    "standingHeightGen.generate(2, new_log_file=True)"
   ]
  },
  {
   "cell_type": "code",
   "execution_count": 7,
   "metadata": {},
   "outputs": [
    {
     "name": "stdout",
     "output_type": "stream",
     "text": [
      "\r",
      "Zoom level: 3 |██████████████████████████████████████████████████| 100.0% Complete\r\n"
     ]
    }
   ],
   "source": [
    "standingHeightGen.generate(3)"
   ]
  },
  {
   "cell_type": "code",
   "execution_count": 6,
   "metadata": {},
   "outputs": [
    {
     "name": "stdout",
     "output_type": "stream",
     "text": [
      "Zoom level: 4 |██████████████████████████████████████████████████| 100.0% Complete\n"
     ]
    }
   ],
   "source": [
    "standingHeightGen.generate(4)"
   ]
  },
  {
   "cell_type": "code",
   "execution_count": 7,
   "metadata": {},
   "outputs": [
    {
     "name": "stdout",
     "output_type": "stream",
     "text": [
      "Zoom level: 5 |██████████████████████████████████████████████████| 100.0% Complete\n"
     ]
    }
   ],
   "source": [
    "standingHeightGen.generate(5)"
   ]
  },
  {
   "cell_type": "code",
   "execution_count": 19,
   "metadata": {},
   "outputs": [
    {
     "name": "stdout",
     "output_type": "stream",
     "text": [
      "Zoom level: 6 |██████████████████████████████████████████████████| 100.0% Complete\n"
     ]
    }
   ],
   "source": [
    "standingHeightGen.generate(6) # took 9 hours"
   ]
  },
  {
   "cell_type": "code",
   "execution_count": null,
   "metadata": {},
   "outputs": [
    {
     "name": "stdout",
     "output_type": "stream",
     "text": [
      "Zoom level: 7 |--------------------------------------------------| 0.6% Complete\r"
     ]
    }
   ],
   "source": [
    "standingHeightGen.generate(7)"
   ]
  },
  {
   "cell_type": "code",
   "execution_count": null,
   "metadata": {
    "collapsed": true
   },
   "outputs": [],
   "source": [
    "\n",
    "#for print(\"zone: \"+str(zone.a_range)+\" \"+str(zone.b_range))\n",
    "    #print(zone.a_range.extend(zone.b_range)) # MUTATES object; do not do\n",
    "#print(standingHeightGen.empty_tiles)\n",
    "#for zrc in standingHeightGen.empty_tiles:\n",
    "#    print(zrc)\n",
    "\n",
    "import csv\n",
    "with open('empty_zones.csv', \"w\") as output:\n",
    "    writer = csv.writer(output, lineterminator='\\n')\n",
    "    for zone in standingHeightGen.empty_zones.zones:\n",
    "        writer.writerow(zone.a_range + zone.b_range)\n",
    "\n",
    "with open('empty_tiles.csv', 'w') as output:\n",
    "    writer = csv.writer(output, lineterminator='\\n')\n",
    "    for zcr in standingHeightGen.empty_tiles:\n",
    "        writer.writerow(zcr)"
   ]
  },
  {
   "cell_type": "code",
   "execution_count": null,
   "metadata": {
    "collapsed": true
   },
   "outputs": [],
   "source": []
  }
 ],
 "metadata": {
  "kernelspec": {
   "display_name": "Python 3",
   "language": "python",
   "name": "python3"
  },
  "language_info": {
   "codemirror_mode": {
    "name": "ipython",
    "version": 3
   },
   "file_extension": ".py",
   "mimetype": "text/x-python",
   "name": "python",
   "nbconvert_exporter": "python",
   "pygments_lexer": "ipython3",
   "version": "3.6.3"
  }
 },
 "nbformat": 4,
 "nbformat_minor": 2
}
